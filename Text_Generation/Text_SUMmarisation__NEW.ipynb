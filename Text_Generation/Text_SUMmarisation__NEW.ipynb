{
  "nbformat": 4,
  "nbformat_minor": 0,
  "metadata": {
    "colab": {
      "name": "Text_SUMmarisation _NEW.ipynb",
      "version": "0.3.2",
      "views": {},
      "default_view": {},
      "provenance": []
    },
    "kernelspec": {
      "name": "python2",
      "display_name": "Python 2"
    },
    "accelerator": "GPU"
  },
  "cells": [
    {
      "metadata": {
        "id": "UEjexLPHEi2F",
        "colab_type": "code",
        "colab": {
          "autoexec": {
            "startup": false,
            "wait_interval": 0
          },
          "base_uri": "https://localhost:8080/",
          "height": 89
        },
        "outputId": "8266308f-781e-4638-985a-18a164347aa3",
        "executionInfo": {
          "status": "ok",
          "timestamp": 1532425160017,
          "user_tz": -330,
          "elapsed": 56176,
          "user": {
            "displayName": "Harshit Narang",
            "photoUrl": "//lh6.googleusercontent.com/-oYQJaW5cR7E/AAAAAAAAAAI/AAAAAAAAAAU/t7azDDXcsQw/s50-c-k-no/photo.jpg",
            "userId": "105530899857872146092"
          }
        }
      },
      "cell_type": "code",
      "source": [
        "from google.colab import files\n",
        "\n",
        "uploaded = files.upload()\n",
        "\n",
        "for fn in uploaded.keys():\n",
        "  print('User uploaded file \"{name}\" with length {length} bytes'.format(\n",
        "      name=fn, length=len(uploaded[fn])))"
      ],
      "execution_count": 2,
      "outputs": [
        {
          "output_type": "display_data",
          "data": {
            "text/plain": [
              "<IPython.core.display.HTML object>"
            ],
            "text/html": [
              "\n",
              "     <input type=\"file\" id=\"files-16243248-7b7a-434d-9650-c843e14c4e86\" name=\"files[]\" multiple disabled />\n",
              "     <output id=\"result-16243248-7b7a-434d-9650-c843e14c4e86\">\n",
              "      Upload widget is only available when the cell has been executed in the\n",
              "      current browser session. Please rerun this cell to enable.\n",
              "      </output>\n",
              "      <script src=\"/nbextensions/google.colab/files.js\"></script> "
            ]
          },
          "metadata": {
            "tags": []
          }
        },
        {
          "output_type": "stream",
          "text": [
            "Saving out_pol - Copy (2).txt to out_pol - Copy (2).txt\n",
            "User uploaded file \"out_pol - Copy (2).txt\" with length 2173397 bytes\n"
          ],
          "name": "stdout"
        }
      ]
    },
    {
      "metadata": {
        "id": "JDRn10cMIK4r",
        "colab_type": "code",
        "colab": {
          "autoexec": {
            "startup": false,
            "wait_interval": 0
          }
        }
      },
      "cell_type": "code",
      "source": [
        "import numpy as np"
      ],
      "execution_count": 0,
      "outputs": []
    },
    {
      "metadata": {
        "id": "nmr2dmPlJP9x",
        "colab_type": "code",
        "colab": {
          "autoexec": {
            "startup": false,
            "wait_interval": 0
          }
        }
      },
      "cell_type": "code",
      "source": [
        "from __future__ import print_function\n",
        "import numpy as np\n",
        "\n",
        "# method for generating text\n",
        "def generate_text(model, length, vocab_size, ix_to_char):\n",
        "\t# starting with random character\n",
        "\tix = [np.random.randint(vocab_size)]\n",
        "\ty_char = [ix_to_char[ix[-1]]]\n",
        "\tX = np.zeros((1, length, vocab_size))\n",
        "\tfor i in range(length):\n",
        "\t\t# appending the last predicted character to sequence\n",
        "\t\tX[0, i, :][ix[-1]] = 1\n",
        "\t\tprint(ix_to_char[ix[-1]], end=\"\")\n",
        "\t\tix = np.argmax(model.predict(X[:, :i+1, :])[0], 1)\n",
        "\t\ty_char.append(ix_to_char[ix[-1]])\n",
        "\treturn ('').join(y_char)\n",
        "\n",
        "# method for preparing the training data\n",
        "def load_data(data_dir, seq_length):\n",
        "\tdata = open(data_dir, 'r').read()\n",
        "\tchars = list(set(data))\n",
        "\tVOCAB_SIZE = len(chars)\n",
        "\n",
        "\tprint('Data length: {} characters'.format(len(data)))\n",
        "\tprint('Vocabulary size: {} characters'.format(VOCAB_SIZE))\n",
        "\n",
        "\tix_to_char = {ix:char for ix, char in enumerate(chars)}\n",
        "\tchar_to_ix = {char:ix for ix, char in enumerate(chars)}\n",
        "\n",
        "\tX = np.zeros((len(data)/seq_length, seq_length, VOCAB_SIZE))\n",
        "\ty = np.zeros((len(data)/seq_length, seq_length, VOCAB_SIZE))\n",
        "\tfor i in range(0, len(data)/seq_length):\n",
        "\t\tX_sequence = data[i*seq_length:(i+1)*seq_length]\n",
        "\t\tX_sequence_ix = [char_to_ix[value] for value in X_sequence]\n",
        "\t\tinput_sequence = np.zeros((seq_length, VOCAB_SIZE))\n",
        "\t\tfor j in range(seq_length):\n",
        "\t\t\tinput_sequence[j][X_sequence_ix[j]] = 1.\n",
        "\t\t\tX[i] = input_sequence\n",
        "\n",
        "\t\ty_sequence = data[i*seq_length+1:(i+1)*seq_length+1]\n",
        "\t\ty_sequence_ix = [char_to_ix[value] for value in y_sequence]\n",
        "\t\ttarget_sequence = np.zeros((seq_length, VOCAB_SIZE))\n",
        "\t\tfor j in range(seq_length):\n",
        "\t\t\ttarget_sequence[j][y_sequence_ix[j]] = 1.\n",
        "\t\t\ty[i] = target_sequence\n",
        "\treturn X, y, VOCAB_SIZE, ix_to_char\n"
      ],
      "execution_count": 0,
      "outputs": []
    },
    {
      "metadata": {
        "id": "9JIjQd9DJVA4",
        "colab_type": "code",
        "colab": {
          "autoexec": {
            "startup": false,
            "wait_interval": 0
          },
          "base_uri": "https://localhost:8080/",
          "height": 34
        },
        "outputId": "2799ad22-c0ca-4d55-9ad8-33abe52e0945",
        "executionInfo": {
          "status": "ok",
          "timestamp": 1532425322128,
          "user_tz": -330,
          "elapsed": 2011,
          "user": {
            "displayName": "Harshit Narang",
            "photoUrl": "//lh6.googleusercontent.com/-oYQJaW5cR7E/AAAAAAAAAAI/AAAAAAAAAAU/t7azDDXcsQw/s50-c-k-no/photo.jpg",
            "userId": "105530899857872146092"
          }
        }
      },
      "cell_type": "code",
      "source": [
        "from __future__ import print_function\n",
        "import matplotlib.pyplot as plt\n",
        "import numpy as np\n",
        "import time\n",
        "import csv\n",
        "from keras.models import Sequential\n",
        "from keras.layers.core import Dense, Activation, Dropout\n",
        "from keras.layers.recurrent import LSTM, SimpleRNN\n",
        "from keras.layers.wrappers import TimeDistributed\n",
        "import argparse\n",
        "import pandas as pd \n",
        "from keras.models import Sequential\n"
      ],
      "execution_count": 8,
      "outputs": [
        {
          "output_type": "stream",
          "text": [
            "Using TensorFlow backend.\n"
          ],
          "name": "stderr"
        }
      ]
    },
    {
      "metadata": {
        "id": "YENTvzSJSyP5",
        "colab_type": "code",
        "colab": {
          "autoexec": {
            "startup": false,
            "wait_interval": 0
          },
          "base_uri": "https://localhost:8080/",
          "height": 54
        },
        "outputId": "dcb39912-2756-4817-c597-17fa7ac22c61",
        "executionInfo": {
          "status": "ok",
          "timestamp": 1532425331443,
          "user_tz": -330,
          "elapsed": 1179,
          "user": {
            "displayName": "Harshit Narang",
            "photoUrl": "//lh6.googleusercontent.com/-oYQJaW5cR7E/AAAAAAAAAAI/AAAAAAAAAAU/t7azDDXcsQw/s50-c-k-no/photo.jpg",
            "userId": "105530899857872146092"
          }
        }
      },
      "cell_type": "code",
      "source": [
        "ap = argparse.ArgumentParser()\n",
        "ap.add_argument('--batch_size', default=100, type=int, help='batch size')\n",
        "ap.add_argument('--train_steps', default=1000, type=int,\n",
        "                    help='number of training steps')"
      ],
      "execution_count": 9,
      "outputs": [
        {
          "output_type": "execute_result",
          "data": {
            "text/plain": [
              "_StoreAction(option_strings=['--train_steps'], dest='train_steps', nargs=None, const=None, default=1000, type=<type 'int'>, choices=None, help='number of training steps', metavar=None)"
            ]
          },
          "metadata": {
            "tags": []
          },
          "execution_count": 9
        }
      ]
    },
    {
      "metadata": {
        "id": "qmTBRLyAF0-2",
        "colab_type": "code",
        "colab": {
          "autoexec": {
            "startup": false,
            "wait_interval": 0
          }
        }
      },
      "cell_type": "code",
      "source": [
        "import sys; sys.argv=['']; del sys"
      ],
      "execution_count": 0,
      "outputs": []
    },
    {
      "metadata": {
        "id": "kV1GpZf-Jy-K",
        "colab_type": "code",
        "colab": {
          "autoexec": {
            "startup": false,
            "wait_interval": 0
          }
        }
      },
      "cell_type": "code",
      "source": [
        "ap = argparse.ArgumentParser()\n",
        "ap.add_argument('--batch_size', default=100, type=int, help='batch size')\n",
        "ap.add_argument('--train_steps', default=1000, type=int,\n",
        "                    help='number of training steps')\n",
        "ap.add_argument('-data_dir', default='out_pol - Copy (2).txt')\n",
        "ap.add_argument('-batch_size', type=int, default=50)\n",
        "ap.add_argument('-layer_num', type=int, default=2)\n",
        "ap.add_argument('-seq_length', type=int, default=50)\n",
        "ap.add_argument('-hidden_dim', type=int, default=500)\n",
        "ap.add_argument('-generate_length', type=int, default=500)\n",
        "ap.add_argument('-nb_epoch', type=int, default=20)\n",
        "ap.add_argument('-mode', default='train')\n",
        "ap.add_argument('-weights', default='')\n",
        "\n",
        "args = vars(ap.parse_args())\n",
        "\n",
        "DATA_DIR = args['data_dir']\n",
        "BATCH_SIZE = args['batch_size']\n",
        "HIDDEN_DIM = args['hidden_dim']\n",
        "SEQ_LENGTH = args['seq_length']\n",
        "WEIGHTS = args['weights']\n",
        "\n",
        "GENERATE_LENGTH = args['generate_length']\n",
        "LAYER_NUM = args['layer_num']\n"
      ],
      "execution_count": 0,
      "outputs": []
    },
    {
      "metadata": {
        "id": "BZtKtXbx2A_9",
        "colab_type": "code",
        "colab": {
          "autoexec": {
            "startup": false,
            "wait_interval": 0
          },
          "base_uri": "https://localhost:8080/",
          "height": 238
        },
        "outputId": "29260b37-69d0-4cce-9682-16b24f8e3d85",
        "executionInfo": {
          "status": "ok",
          "timestamp": 1532423022604,
          "user_tz": -330,
          "elapsed": 1324,
          "user": {
            "displayName": "Harshit Narang",
            "photoUrl": "//lh6.googleusercontent.com/-oYQJaW5cR7E/AAAAAAAAAAI/AAAAAAAAAAU/t7azDDXcsQw/s50-c-k-no/photo.jpg",
            "userId": "105530899857872146092"
          }
        }
      },
      "cell_type": "code",
      "source": [
        "#print (SEQ_LENGTH)\n",
        "data = open(args['data_dir'], 'r').read()\n",
        "chars = list(set(data))\n",
        "VOCAB_SIZE = len(chars)\n",
        "print (type(SEQ_LENGTH),type(len(data)))\n",
        "print (np.zeros(int(len(data)/SEQ_LENGTH),dtype = int))\n",
        "input_sequence = np.zeros((SEQ_LENGTH, VOCAB_SIZE))\n",
        "print(input_sequence[6])"
      ],
      "execution_count": 9,
      "outputs": [
        {
          "output_type": "stream",
          "text": [
            "<type 'int'> <type 'int'>\n",
            "[0 0 0 ... 0 0 0]\n",
            "[0. 0. 0. 0. 0. 0. 0. 0. 0. 0. 0. 0. 0. 0. 0. 0. 0. 0. 0. 0. 0. 0. 0. 0.\n",
            " 0. 0. 0. 0. 0. 0. 0. 0. 0. 0. 0. 0. 0. 0. 0. 0. 0. 0. 0. 0. 0. 0. 0. 0.\n",
            " 0. 0. 0. 0. 0. 0. 0. 0. 0. 0. 0. 0. 0. 0. 0. 0. 0. 0. 0. 0. 0. 0. 0. 0.\n",
            " 0. 0. 0. 0. 0. 0. 0. 0. 0. 0. 0. 0. 0. 0. 0. 0. 0. 0. 0. 0. 0. 0. 0. 0.\n",
            " 0. 0. 0. 0. 0. 0. 0. 0. 0. 0. 0. 0. 0. 0. 0. 0. 0. 0. 0. 0. 0. 0. 0. 0.\n",
            " 0. 0. 0. 0. 0. 0. 0. 0. 0. 0. 0. 0. 0. 0. 0. 0. 0. 0. 0. 0. 0. 0. 0. 0.\n",
            " 0. 0. 0. 0. 0. 0. 0. 0. 0. 0. 0. 0. 0. 0. 0. 0. 0. 0. 0. 0. 0. 0. 0. 0.\n",
            " 0. 0. 0. 0. 0. 0. 0. 0. 0. 0. 0. 0. 0. 0. 0. 0. 0. 0. 0. 0. 0. 0. 0. 0.\n",
            " 0. 0. 0. 0. 0. 0. 0. 0. 0. 0. 0. 0. 0. 0. 0. 0. 0. 0. 0. 0. 0. 0. 0. 0.\n",
            " 0. 0. 0. 0. 0. 0. 0. 0. 0. 0. 0. 0. 0. 0. 0. 0. 0. 0. 0. 0. 0. 0. 0. 0.\n",
            " 0. 0. 0. 0. 0. 0. 0. 0. 0. 0. 0. 0. 0. 0. 0. 0.]\n"
          ],
          "name": "stdout"
        }
      ]
    },
    {
      "metadata": {
        "id": "UsU-53N7pK1q",
        "colab_type": "code",
        "colab": {
          "autoexec": {
            "startup": false,
            "wait_interval": 0
          },
          "base_uri": "https://localhost:8080/",
          "height": 68
        },
        "outputId": "13a341ac-d037-48b8-e6f7-9bc34000c710",
        "executionInfo": {
          "status": "ok",
          "timestamp": 1532425369073,
          "user_tz": -330,
          "elapsed": 15894,
          "user": {
            "displayName": "Harshit Narang",
            "photoUrl": "//lh6.googleusercontent.com/-oYQJaW5cR7E/AAAAAAAAAAI/AAAAAAAAAAU/t7azDDXcsQw/s50-c-k-no/photo.jpg",
            "userId": "105530899857872146092"
          }
        }
      },
      "cell_type": "code",
      "source": [
        "X, y, VOCAB_SIZE, ix_to_char = load_data(DATA_DIR, SEQ_LENGTH)\n",
        "print('ok')"
      ],
      "execution_count": 12,
      "outputs": [
        {
          "output_type": "stream",
          "text": [
            "Data length: 2173397 characters\n",
            "Vocabulary size: 94 characters\n",
            "ok\n"
          ],
          "name": "stdout"
        }
      ]
    },
    {
      "metadata": {
        "id": "HVCKw6-PILyx",
        "colab_type": "code",
        "colab": {
          "autoexec": {
            "startup": false,
            "wait_interval": 0
          }
        }
      },
      "cell_type": "code",
      "source": [
        "model = Sequential()\n",
        "model.add(LSTM(HIDDEN_DIM, input_shape=(None, VOCAB_SIZE), return_sequences=True))\n",
        "for i in range(LAYER_NUM - 1):\n",
        "  model.add(LSTM(HIDDEN_DIM, return_sequences=True))\n",
        "model.add(TimeDistributed(Dense(VOCAB_SIZE)))\n",
        "model.add(Activation('softmax'))\n",
        "model.compile(loss=\"categorical_crossentropy\", optimizer=\"rmsprop\")\n"
      ],
      "execution_count": 0,
      "outputs": []
    },
    {
      "metadata": {
        "id": "w_QPTKaeJ5HQ",
        "colab_type": "code",
        "colab": {
          "autoexec": {
            "startup": false,
            "wait_interval": 0
          },
          "base_uri": "https://localhost:8080/",
          "height": 3692
        },
        "outputId": "2313ba60-bbc7-4dd3-dd44-62eb58f413c8",
        "executionInfo": {
          "status": "error",
          "timestamp": 1532436109949,
          "user_tz": -330,
          "elapsed": 5100086,
          "user": {
            "displayName": "Harshit Narang",
            "photoUrl": "//lh6.googleusercontent.com/-oYQJaW5cR7E/AAAAAAAAAAI/AAAAAAAAAAU/t7azDDXcsQw/s50-c-k-no/photo.jpg",
            "userId": "105530899857872146092"
          }
        }
      },
      "cell_type": "code",
      "source": [
        "generate_text(model, args['generate_length'], VOCAB_SIZE, ix_to_char)\n",
        "\n",
        "if not WEIGHTS == '':\n",
        "  model.load_weights(WEIGHTS)\n",
        "  nb_epoch = int(WEIGHTS[WEIGHTS.rfind('_') + 1:WEIGHTS.find('.')])\n",
        "else:\n",
        "  nb_epoch = 0\n",
        "\n",
        "  \n",
        "if args['mode'] == 'train' or WEIGHTS == '':\n",
        "  while True:\n",
        "    print('\\n\\nEpoch: {}\\n'.format(nb_epoch))\n",
        "    model.fit(X, y, batch_size=BATCH_SIZE, verbose=1, nb_epoch=1)\n",
        "    nb_epoch += 1\n",
        "    generate_text(model, GENERATE_LENGTH, VOCAB_SIZE, ix_to_char)\n",
        "    if nb_epoch % 10 == 0:\n",
        "      model.save_weights('checkpoint_layer_{}_hidden_{}_epoch_{}.hdf5'.format(LAYER_NUM, HIDDEN_DIM, nb_epoch))\n",
        "      \n",
        "      \n",
        "elif WEIGHTS == '':\n",
        "  # Loading the trained weights\n",
        "  model.load_weights(WEIGHTS)\n",
        "  generate_text(model, GENERATE_LENGTH, VOCAB_SIZE, ix_to_char)\n",
        "  print('\\n\\n')\n",
        "else:\n",
        "  print('\\n\\nNothing to do!')"
      ],
      "execution_count": 14,
      "outputs": [
        {
          "output_type": "stream",
          "text": [
            "LUo,,�222eee2uuss ufuu$$aaaaaaaaYYWWWWEEEmEmEGGGGG!!!!QQ4[[EEEddddddd@@@@EEddddd@@@d@EEddddd@@@@EEdddddd@@@@EEddddd@@@d@EEddddd@@@@EEdddddd@@@@EEddddd@@@d@EEddddd@@@@EEdddddd@@@@EEddddd@@@d@EEddddd@@@@EEdddddd@@@@EEddddd@@@d@EEddddd@@@@EEdddddd@@@@EEddddd@@@d@EEddddd@@@@EEdddddd@@@@EEddddd@@@d@EEddddd@@@@EEdddddd@@@@EEddddd@@@d@EEddddd@@@@EEdddddd@@@@EEddddd@@@d@EEddddd@@@@EEdddddd@@@@EEddddd@@@d@EEddddd@@@@EEdddddd@@@@EEddddd@@@d@EEddddd@@@@EEdddddd@@@@E"
          ],
          "name": "stdout"
        },
        {
          "output_type": "stream",
          "text": [
            "Eddddd@@@d@EEddddd@@@@EEdddddd@@@@EEddddd\n",
            "\n",
            "Epoch: 0\n",
            "\n"
          ],
          "name": "stdout"
        },
        {
          "output_type": "stream",
          "text": [
            "/usr/local/lib/python2.7/dist-packages/keras/models.py:981: UserWarning: The `nb_epoch` argument in `fit` has been renamed `epochs`.\n",
            "  warnings.warn('The `nb_epoch` argument in `fit` '\n"
          ],
          "name": "stderr"
        },
        {
          "output_type": "stream",
          "text": [
            "Epoch 1/1\n",
            "43467/43467 [==============================] - 110s 3ms/step - loss: 2.5081\n",
            "9 the seare the sechare the servere the stare the servere the stare the servere the stare the servere the stare the servere the stare the servere the stare the servere the stare the servere the stare the servere the stare the servere the stare the servere the stare the servere the stare the servere the stare the server"
          ],
          "name": "stdout"
        },
        {
          "output_type": "stream",
          "text": [
            "e the stare the servere the stare the servere the stare the servere the stare the servere the stare the servere the stare the servere the stare the servere the stare the servere th\n",
            "\n",
            "Epoch: 1\n",
            "\n",
            "Epoch 1/1\n",
            "30600/43467 [====================>.........] - ETA: 32s - loss: 1.8155"
          ],
          "name": "stdout"
        },
        {
          "output_type": "stream",
          "text": [
            "43467/43467 [==============================] - 109s 2ms/step - loss: 1.7621\n",
            "ing a second second service and the second second service and the second second service and the second second service and the second second service and the second second service and the second second service and the second second service and the second second service and the second second service and the second second service and the second second service and the second second servi"
          ],
          "name": "stdout"
        },
        {
          "output_type": "stream",
          "text": [
            "ce and the second second service and the second second service and the second second service and the second second \n",
            "\n",
            "Epoch: 2\n",
            "\n",
            "Epoch 1/1\n",
            "43467/43467 [==============================] - 109s 3ms/step - loss: 1.5089\n",
            "C the programme will be a lot of the problems when they w"
          ],
          "name": "stdout"
        },
        {
          "output_type": "stream",
          "text": [
            "ould have to be a lot of the problems when they would have to be a lot of the problems when they would have to be a lot of the problems when they would have to be a lot of the problems when they would have to be a lot of the problems when they would have to be a lot of the problems when they would have to be a lot of the problems when they would have to be a lot of the problems when they would have to be a lot of the problems when they wou\n",
            "\n",
            "Epoch: 3\n",
            "\n",
            "Epoch 1/1\n",
            "  600/43467 [..............................] - ETA: 1:54 - loss: 1.4294"
          ],
          "name": "stdout"
        },
        {
          "output_type": "stream",
          "text": [
            "43467/43467 [==============================] - 109s 3ms/step - loss: 1.3907\n",
            "8 the research for the service will be a match with the match with the match with the match will be a match with the match with the match with the match will be a match with the match with the match with the match will be a match with the match with the match with the match will be a match with the match with the match with the match w"
          ],
          "name": "stdout"
        },
        {
          "output_type": "stream",
          "text": [
            "ill be a match with the match with the match with the match will be a match with the match with the match with the match will be a match with the match with the ma\n",
            "\n",
            "Epoch: 4\n",
            "\n",
            "Epoch 1/1\n",
            "33800/43467 [======================>.......] - ETA: 24s - loss: 1.3187"
          ],
          "name": "stdout"
        },
        {
          "output_type": "stream",
          "text": [
            "43467/43467 [==============================] - 109s 3ms/step - loss: 1.3160\n",
            "ve to see the start of the second reach of the second reaction of the second reaction of the second reaction of the second reaction of the second reaction of the second reaction of the second reaction of the second reaction of the second reaction of the second reaction of the second reaction of the second reaction of the second reaction of the second reaction of the second reaction of th"
          ],
          "name": "stdout"
        },
        {
          "output_type": "stream",
          "text": [
            "e second reaction of the second reaction of the second reaction of the second reaction of the second reaction \n",
            "\n",
            "Epoch: 5\n",
            "\n",
            "Epoch 1/1\n",
            "43467/43467 [==============================] - 109s 2ms/step - loss: 1.2594\n",
            "; Martin Jones has been a lot of the match against the US and the UK and the UK wa"
          ],
          "name": "stdout"
        },
        {
          "output_type": "stream",
          "text": [
            "s also a good team and they are also a good team and they are also a good team and they are also a good team and they are also a good team and they are also a good team and they are also a good team and they are also a good team and they are also a good team and they are also a good team and they are also a good team and they are also a good team and they are also a good team and they are also a good team and they \n",
            "\n",
            "Epoch: 6\n",
            "\n",
            "Epoch 1/1\n",
            " 2500/43467 [>.............................] - ETA: 1:44 - loss: 1.2064"
          ],
          "name": "stdout"
        },
        {
          "output_type": "stream",
          "text": [
            "43467/43467 [==============================] - 109s 3ms/step - loss: 1.2117\n",
            "and the company has been downloaded by the start of the company and the company was a great player and we have to be completed by the computer chips to be able to see the contract with the computer chips to be able to see the contract with the computer chips to be able to see the contract with the computer chips to be able to see the cont"
          ],
          "name": "stdout"
        },
        {
          "output_type": "stream",
          "text": [
            "ract with the computer chips to be able to see the contract with the computer chips to be able to see the contract with the computer chips to be able to see the\n",
            "\n",
            "Epoch: 7\n",
            "\n",
            "Epoch 1/1\n",
            "34400/43467 [======================>.......] - ETA: 22s - loss: 1.1677"
          ],
          "name": "stdout"
        },
        {
          "output_type": "stream",
          "text": [
            "43467/43467 [==============================] - 109s 3ms/step - loss: 1.1692\n",
            "K the season was a good season when they want to go before the best on the tour to be a big problem for the tour to a series of people to use the season was to be a big part of the season. \"I think it was a good season when they want to go before the best on the tour to be a big problem for the tour to a series of people to use the season was to be a big part of the season. \"I think it wa"
          ],
          "name": "stdout"
        },
        {
          "output_type": "stream",
          "text": [
            "s a good season when they want to go before the best on the tour to be a big problem for the tour to a series\n",
            "\n",
            "Epoch: 8\n",
            "\n",
            "Epoch 1/1\n",
            "43467/43467 [==============================] - 109s 3ms/step - loss: 1.1296\n",
            "100 million of the season when he was a great way to start to the same time. The start"
          ],
          "name": "stdout"
        },
        {
          "output_type": "stream",
          "text": [
            " of the season is a big ball and the standard is a content area when he was a great way to start to the same time. The start of the season is a big ball and the standard is a content area when he was a great way to start to the same time. The start of the season is a big ball and the standard is a content area when he was a great way to start to the same time. The start of the season is a big ball and the stand\n",
            "\n",
            "Epoch: 9\n",
            "\n",
            "Epoch 1/1\n",
            " 2800/43467 [>.............................] - ETA: 1:43 - loss: 1.0719"
          ],
          "name": "stdout"
        },
        {
          "output_type": "stream",
          "text": [
            "43467/43467 [==============================] - 109s 3ms/step - loss: 1.0921\n",
            "Rosses service will start the site and so that the software can be shown to the start of the season. However, it is the same point where he was a simple since the start of the season. However, it is the same point where he was a simple since the start of the season. However, it is the same point where he was a simple since the start of the"
          ],
          "name": "stdout"
        },
        {
          "output_type": "stream",
          "text": [
            " season. However, it is the same point where he was a simple since the start of the season. However, it is the same point where he was a simple since the start\n",
            "\n",
            "Epoch: 10\n",
            "\n",
            "Epoch 1/1\n",
            "34400/43467 [======================>.......] - ETA: 22s - loss: 1.0519"
          ],
          "name": "stdout"
        },
        {
          "output_type": "stream",
          "text": [
            "43467/43467 [==============================] - 109s 3ms/step - loss: 1.0560\n",
            "Nother than the technology and said that the survey showed that they are still in the world.\" The game is the first time in the world this year. It was a great start of the season and we will be able to see what they are the first time in the world this year. It was a great start of the season and we will be able to see what they are the first time in the world this year. It was a great s"
          ],
          "name": "stdout"
        },
        {
          "output_type": "stream",
          "text": [
            "tart of the season and we will be able to see what they are the first time in the world this year. It was a g\n",
            "\n",
            "Epoch: 11\n",
            "\n",
            "Epoch 1/1\n",
            "43467/43467 [==============================] - 109s 3ms/step - loss: 1.0213\n",
            "re than the standard of the service of the tournament and we will see the standard o"
          ],
          "name": "stdout"
        },
        {
          "output_type": "stream",
          "text": [
            "f the search engine and threatened it and will be able to see if the services of the net services and the world of people in the UK networks and the net is a big club. \"I have no doubt that I was a great start of the second half was the one of the biggest change of the transfer of players that can be used to monitor the sites that can be used to monitor the sites that can be used to monitor the sites that can be \n",
            "\n",
            "Epoch: 12\n",
            "\n",
            "Epoch 1/1\n",
            " 2600/43467 [>.............................] - ETA: 1:43 - loss: 0.9526"
          ],
          "name": "stdout"
        },
        {
          "output_type": "stream",
          "text": [
            "43467/43467 [==============================] - 109s 3ms/step - loss: 0.9874\n",
            "and the growing community of a firm is to be able to compete and with the result. \"I don't think it was a great players in the final of the Six Nations campaign. But the results have been set up to the first time in the final of the Six Nations campaign. But the results have been set up to the first time in the final of the Six Nations ca"
          ],
          "name": "stdout"
        },
        {
          "output_type": "stream",
          "text": [
            "mpaign. But the results have been set up to the first time in the final of the Six Nations campaign. But the results have been set up to the first time in the f\n",
            "\n",
            "Epoch: 13\n",
            "\n",
            "Epoch 1/1\n",
            "34200/43467 [======================>.......] - ETA: 23s - loss: 0.9493"
          ],
          "name": "stdout"
        },
        {
          "output_type": "stream",
          "text": [
            "43467/43467 [==============================] - 109s 3ms/step - loss: 0.9546\n",
            "Vickery with a meeting on the season. \"We are going to see that they were developing the match with a mini-building debut in the second round. \"I don't know he was proved the country and he was such as the rest of the match against England. \"I don't know how thinks that the site was only a match at the end of the year. And he is expected to be able to see it become a player and he still h"
          ],
          "name": "stdout"
        },
        {
          "output_type": "stream",
          "text": [
            "appening in the second set. \"I feel like I was in the real week. \"I want to be able to see it because they ar\n",
            "\n",
            "Epoch: 14\n",
            "\n",
            "Epoch 1/1\n",
            "43467/43467 [==============================] - 109s 3ms/step - loss: 0.9230\n",
            "-technology in the UK are expected to reach the final set to support the ball over "
          ],
          "name": "stdout"
        },
        {
          "output_type": "stream",
          "text": [
            "the last 12 months. The pass were intended to come in the first time since 1998 to win the high street on the bench after the game because I get a lot of football and believe it is a bit of a race and has a record of the final while the technology would be a very exciting as it does the device to make the increasing the new interest groups would be a massive style of a second time in the world this year. It is a v\n",
            "\n",
            "Epoch: 15\n",
            "\n",
            "Epoch 1/1\n",
            " 2600/43467 [>.............................] - ETA: 1:43 - loss: 0.8557"
          ],
          "name": "stdout"
        },
        {
          "output_type": "stream",
          "text": [
            "43467/43467 [==============================] - 109s 3ms/step - loss: 0.8926\n",
            " the starting line-up to face this as it is to be really enough at the court.\" But the real day after the Australian Open champion will be able to return to the field start against France and will be able to send it on the club. \"I don't know what I was in good for the fourth set. But the referee can be a computer process of players outwo"
          ],
          "name": "stdout"
        },
        {
          "output_type": "stream",
          "text": [
            "rded more than 50% of those asked in a statement. Some particularly with the net is thought to be the first time in the world this year. \"It's really hard for t\n",
            "\n",
            "Epoch: 16\n",
            "\n",
            "Epoch 1/1\n",
            "34200/43467 [======================>.......] - ETA: 23s - loss: 0.8580"
          ],
          "name": "stdout"
        },
        {
          "output_type": "stream",
          "text": [
            "43467/43467 [==============================] - 109s 3ms/step - loss: 0.8634\n",
            "We have a common attachment to a common type of international rugby then it was a good game between the two days. \"I was so nothing out and then the company is the company is the right to be a problem for the first time since 1998. Coach John Kewell will be completely contract with the first time since 1999 when he firm Saint Classica showed that the comments of the most digital content "
          ],
          "name": "stdout"
        },
        {
          "output_type": "stream",
          "text": [
            "that can be in a couple of years and we have not got an event, he said. \"The manager is a big challenge, the c\n",
            "\n",
            "Epoch: 17\n",
            "\n",
            "Epoch 1/1\n",
            "43467/43467 [==============================] - 109s 3ms/step - loss: 0.8360\n",
            "), S Borthwick (Bath), J Forrester (Bourgoin), G Easterby, Horman and Arsenal v S"
          ],
          "name": "stdout"
        },
        {
          "output_type": "stream",
          "text": [
            "witzerland; Gray, Slam, Carlos (Glasgow Rugby), S Borthwick (Bath), J Forrester (Bourgoin), G Easterby, Horman and Arsenal v Switzerland; Gray, Slam, Carlos (Glasgow Rugby), S Borthwick (Bath), J Forrester (Bourgoin), G Easterby, Horman and Arsenal v Switzerland; Gray, Slam, Carlos (Glasgow Rugby), S Borthwick (Bath), J Forrester (Bourgoin), G Easterby, Horman and Arsenal v Switzerland; Gray, Slam, Carlos (Glasgow R\n",
            "\n",
            "Epoch: 18\n",
            "\n",
            "Epoch 1/1\n",
            " 2400/43467 [>.............................] - ETA: 1:45 - loss: 0.7621"
          ],
          "name": "stdout"
        },
        {
          "output_type": "stream",
          "text": [
            "43467/43467 [==============================] - 109s 2ms/step - loss: 0.8095\n",
            "\n",
            "\n",
            "Special guest, such as games consoles and other content on their mobiles and other devices and communicate in the UK and the UK's phone "
          ],
          "name": "stdout"
        },
        {
          "output_type": "stream",
          "text": [
            "firms. \"Players may be a largely disappointing in the second set. But I \n",
            "\n",
            "Epoch: 19\n",
            "\n",
            "Epoch 1/1\n",
            "43467/43467 [==============================] - 114s 3ms/step - loss: 0.7845\n",
            "f the majority of these customers were sold and easily statistics which usually do not rely on the track. The company said it was not the first million currently on the track. The"
          ],
          "name": "stdout"
        },
        {
          "output_type": "stream",
          "text": [
            " company said it was not the first minute, but the marathon was more than 100 billion web logs rely on clay for the first time in 1994. The court said that the survey found that the site that it would be a slight single period for an impressive start to the program. And it was a series of controversial clash with the cl\n",
            "\n",
            "Epoch: 20\n",
            "\n",
            "Epoch 1/1\n",
            "11500/43467 [======>.......................] - ETA: 1:20 - loss: 0.7286"
          ],
          "name": "stdout"
        },
        {
          "output_type": "stream",
          "text": [
            "43467/43467 [==============================] - 109s 3ms/step - loss: 0.7608\n",
            "[Newcastle the last 12 months at the Norwich Union Grand Prix in Birmingham. He will now play against Wales in the second half and he has had no control the ball into the same of the season in the second half of the season in the tie-break for his second half. Henry about hope for Ask Jeeves will respond the screensaver site, which included a similar scr"
          ],
          "name": "stdout"
        },
        {
          "output_type": "stream",
          "text": [
            "ain the disappointment of losing 2003 and has said it will spread how to make the score behind one gigabit a second - up to 20 times faster than\n",
            "\n",
            "Epoch: 21\n",
            "\n",
            "Epoch 1/1\n",
            "37600/43467 [========================>.....] - ETA: 14s - loss: 0.7343"
          ],
          "name": "stdout"
        },
        {
          "output_type": "stream",
          "text": [
            "43467/43467 [==============================] - 109s 3ms/step - loss: 0.7386\n",
            "\n",
            "\n",
            "And with the silver medal was the world's largest collection of digital music players can select any product personal information. It has a case with Scotland and the least of\n",
            "\n",
            "Epoch: 22\n",
            "\n",
            "Epoch 1/1\n",
            "  900/43467 [..............................] - ETA: 1:51 - loss: 0.6611"
          ],
          "name": "stdout"
        },
        {
          "output_type": "stream",
          "text": [
            "43467/43467 [==============================] - 109s 3ms/step - loss: 0.7174\n",
            "xt month if a layer time that cause laptops support commercial reports or is being prepared for the same time as the games and the results as more popular because it was so damaging for consumers, the contest to the patenting of search engines are already over the past year. The research reveals the new so-called wireless internet bro"
          ],
          "name": "stdout"
        },
        {
          "output_type": "stream",
          "text": [
            "adcast in the game all the marketing market. The problem with half an honour to get the same players and converged security software that can store all the election\n",
            "\n",
            "Epoch: 23\n",
            "\n",
            "Epoch 1/1\n",
            "33400/43467 [======================>.......] - ETA: 25s - loss: 0.6892"
          ],
          "name": "stdout"
        },
        {
          "output_type": "stream",
          "text": [
            "43467/43467 [==============================] - 109s 3ms/step - loss: 0.6974\n",
            "Z a company into the triple jump with a challenge to compete with the rest of the world, but the selects was growing at a vastage of a controversial website that can be used on sites to be or favourites to prove him off the console. It was a chance to investment that they can play a few minutes of the environments with the call and in the team of operating system. Despite the recalls th"
          ],
          "name": "stdout"
        },
        {
          "output_type": "stream",
          "text": [
            "at more people signed up with some of the benefits of subscription services would not have a controversial wome\n",
            "\n",
            "Epoch: 24\n",
            "\n",
            "Epoch 1/1\n",
            "43467/43467 [==============================] - 109s 3ms/step - loss: 0.6793\n",
            "&877 in the first half before the end of 2005. The desktop search technologie"
          ],
          "name": "stdout"
        },
        {
          "output_type": "stream",
          "text": [
            "s file stars from the right touchline. Michael Owen added that no deadline from the teachers and this summer. Hasser, in the matches, with a number of important labs summer and have a really tried to recover any part of the promise of the part of the deciding mixed on Sunday and they are not absorg to losing the materiaution for every time they can go out and get a contempora with the market to give him the potential to\n",
            "\n",
            "Epoch: 25\n",
            "\n",
            "Epoch 1/1\n",
            " 2100/43467 [>.............................] - ETA: 1:45 - loss: 0.6154"
          ],
          "name": "stdout"
        },
        {
          "output_type": "stream",
          "text": [
            "43467/43467 [==============================] - 109s 3ms/step - loss: 0.6620\n",
            "* the US and European publishing body with the medium and Norway launched a series of attacks but she does not have the pizch of being a couple of years.\" Davies put up for a more frantic and could use the list. This was accounts, there is no company and the most useful functions of mobiles, with broadband scands, for instance, and where"
          ],
          "name": "stdout"
        },
        {
          "output_type": "stream",
          "text": [
            " they can tell which were not interested in the first half and we can push a selling disguises to allow the resolvation for the team. \"If you are no good sendor,\n",
            "\n",
            "Epoch: 26\n",
            "\n",
            "Epoch 1/1\n",
            "34000/43467 [======================>.......] - ETA: 23s - loss: 0.6374"
          ],
          "name": "stdout"
        },
        {
          "output_type": "stream",
          "text": [
            "43467/43467 [==============================] - 109s 3ms/step - loss: 0.6456\n",
            "\n",
            "\n",
            "I won the rest of 23 years since that game in the first round of the 2006 "
          ],
          "name": "stdout"
        },
        {
          "output_type": "stream",
          "text": [
            "finals before the Australian Open warm-up event and\n",
            "\n",
            "Epoch: 27\n",
            "\n",
            "Epoch 1/1\n",
            "43467/43467 [==============================] - 109s 3ms/step - loss: 0.6311\n",
            "xt match in the first two games of the year, and there is a convincing three points before the end of the year. And there was a new deal with the second time in the second row. It is end up a peril to show that the"
          ],
          "name": "stdout"
        },
        {
          "output_type": "stream",
          "text": [
            " chip will be a very exciting game and tools that are being bothered by the survey conduct, and this season why notially is more than just a the other start to be transformed wrist at least any more and more powerful,\" said Mr Simmars. \"The internet is expected to retain the lay of the\n",
            "\n",
            "Epoch: 28\n",
            "\n",
            "Epoch 1/1\n",
            "15400/43467 [=========>....................] - ETA: 1:10 - loss: 0.5861"
          ],
          "name": "stdout"
        },
        {
          "output_type": "stream",
          "text": [
            "43467/43467 [==============================] - 109s 3ms/step - loss: 0.6169\n",
            "You don't have to be released with the right form that we will go on sale in Japan on 12 December. Contracts and sapprecested his comments and the match will hold of details we were finally expected to release new machines in the world that double Olympic group will start to send a message into a positive spectatch firm Sophos. \"The popularity of the station "
          ],
          "name": "stdout"
        },
        {
          "output_type": "stream",
          "text": [
            "was being used to stand in 2005. But last month will be harder to shut down and being advantage to children can give sell a crisis like Mau\n",
            "\n",
            "Epoch: 29\n",
            "\n",
            "Epoch 1/1\n",
            "38700/43467 [=========================>....] - ETA: 11s - loss: 0.6003"
          ],
          "name": "stdout"
        },
        {
          "output_type": "stream",
          "text": [
            "43467/43467 [==============================] - 109s 3ms/step - loss: 0.6038\n",
            "Kenteris, a United Nations on Saturday, but the American has been met back on the head of the FA Cup thumb-- four times on his serve time we had the opportunity to warn currently taken to compete in the operating system, \"We have to acknowledge that in the leaders of the tournament, will need a player on the board on the weekend. \"It was said because I thought it was a different light-meeting w"
          ],
          "name": "stdout"
        },
        {
          "output_type": "stream",
          "text": [
            "ith Australia's Hergen Mandamont to win the title record by clocking 2.47 when he couldnots and the gam\n",
            "\n",
            "Epoch: 30\n",
            "\n",
            "Epoch 1/1\n",
            "43467/43467 [==============================] - 109s 3ms/step - loss: 0.5917\n",
            "\n",
            "US hobing to make free-kick programs on t"
          ],
          "name": "stdout"
        },
        {
          "output_type": "stream",
          "text": [
            "he study of 23.40. I thought I believe that the fans that is important to consumers will be able to control the frame of its software them to make a system that are used to represent users to search security essablisment are finding more than the experience.\" Italy had to make the most of a chance of see himself to be a lifeligning point in midnight on the cap. \"We want to do in th\n",
            "\n",
            "Epoch: 31\n",
            "\n",
            "Epoch 1/1\n",
            " 5400/43467 [==>...........................] - ETA: 1:36 - loss: 0.5319"
          ],
          "name": "stdout"
        },
        {
          "output_type": "stream",
          "text": [
            "43467/43467 [==============================] - 109s 3ms/step - loss: 0.5799\n",
            "A problem is not able to take part in the action. \"I think we have got to get the ball in our hands and we do everything we can do something with your personal data, like passworns,\" he said. Studies have shown that consoles had experienced an interesting lise called light more than 120 Borders rely until the seven more than a currently in a "
          ],
          "name": "stdout"
        },
        {
          "output_type": "stream",
          "text": [
            "real test-and partner Martyn Wells told BBC Sport. \"We've got the ones that would be the attorney getting a lot of find is in there and a half months for th\n",
            "\n",
            "Epoch: 32\n",
            "\n",
            "Epoch 1/1\n",
            "35000/43467 [=======================>......] - ETA: 21s - loss: 0.5618"
          ],
          "name": "stdout"
        },
        {
          "output_type": "stream",
          "text": [
            "43467/43467 [==============================] - 109s 3ms/step - loss: 0.5696\n",
            "; M Willem, J Worsley, H O'Connor, C Sweeney, D Grewceck, B Drogba (New Zealan) v Readin).\n",
            "\n",
            "Murray, on the other hopes to lead the work of an added one, if there is a hamstring problem is had so narrow what is in the far corner. I can share so be additional drugs tests in the side.\" Williams also done alongside a couple of decision.\" \"It is a working toward in ways that I was an absolute "
          ],
          "name": "stdout"
        },
        {
          "output_type": "stream",
          "text": [
            "for them to get a lot of pressure on their computer or going to the point but we now win in the first half.\n",
            "\n",
            "Epoch: 33\n",
            "\n",
            "Epoch 1/1\n",
            " 8000/43467 [====>.........................] - ETA: 1:28 - loss: 0.5173Buffered data was truncated after reaching the output size limit."
          ],
          "name": "stdout"
        }
      ]
    },
    {
      "metadata": {
        "id": "moZpAFuMT2t3",
        "colab_type": "code",
        "colab": {
          "autoexec": {
            "startup": false,
            "wait_interval": 0
          }
        }
      },
      "cell_type": "code",
      "source": [
        "from keras.models import load_model\n",
        "\n",
        "model.save('model.h5')"
      ],
      "execution_count": 0,
      "outputs": []
    },
    {
      "metadata": {
        "id": "7KAlienxT-Zu",
        "colab_type": "code",
        "colab": {
          "autoexec": {
            "startup": false,
            "wait_interval": 0
          },
          "base_uri": "https://localhost:8080/",
          "height": 272
        },
        "outputId": "35948d6b-9f50-42fa-b5d9-7443527808b7",
        "executionInfo": {
          "status": "ok",
          "timestamp": 1532436157052,
          "user_tz": -330,
          "elapsed": 1310,
          "user": {
            "displayName": "Harshit Narang",
            "photoUrl": "//lh6.googleusercontent.com/-oYQJaW5cR7E/AAAAAAAAAAI/AAAAAAAAAAU/t7azDDXcsQw/s50-c-k-no/photo.jpg",
            "userId": "105530899857872146092"
          }
        }
      },
      "cell_type": "code",
      "source": [
        "model.summary()"
      ],
      "execution_count": 16,
      "outputs": [
        {
          "output_type": "stream",
          "text": [
            "_________________________________________________________________\n",
            "Layer (type)                 Output Shape              Param #   \n",
            "=================================================================\n",
            "lstm_1 (LSTM)                (None, None, 500)         1190000   \n",
            "_________________________________________________________________\n",
            "lstm_2 (LSTM)                (None, None, 500)         2002000   \n",
            "_________________________________________________________________\n",
            "time_distributed_1 (TimeDist (None, None, 94)          47094     \n",
            "_________________________________________________________________\n",
            "activation_1 (Activation)    (None, None, 94)          0         \n",
            "=================================================================\n",
            "Total params: 3,239,094\n",
            "Trainable params: 3,239,094\n",
            "Non-trainable params: 0\n",
            "_________________________________________________________________\n"
          ],
          "name": "stdout"
        }
      ]
    },
    {
      "metadata": {
        "id": "DVoNSK4CU0L9",
        "colab_type": "code",
        "colab": {
          "autoexec": {
            "startup": false,
            "wait_interval": 0
          }
        }
      },
      "cell_type": "code",
      "source": [
        "from pickle import dump\n",
        "from keras.preprocessing.text import Tokenizer\n",
        "\n",
        "dump(Tokenizer, open('tokenizer.pkl', 'wb'))\n",
        "\n",
        "##download\n",
        "files.download('model.h5')\n",
        "files.download('tokenizer.pkl')"
      ],
      "execution_count": 0,
      "outputs": []
    }
  ]
}