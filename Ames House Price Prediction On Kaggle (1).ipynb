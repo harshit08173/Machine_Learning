{
 "cells": [
  {
   "cell_type": "code",
   "execution_count": 1,
   "metadata": {},
   "outputs": [],
   "source": [
    "import pandas as pd \n",
    "import numpy as np"
   ]
  },
  {
   "cell_type": "code",
   "execution_count": 2,
   "metadata": {},
   "outputs": [
    {
     "name": "stdout",
     "output_type": "stream",
     "text": [
      "Requirement already satisfied: xgboost in ./.local/lib/python3.5/site-packages/xgboost-0.72-py3.5.egg (0.72)\n",
      "Requirement already satisfied: numpy in ./.local/lib/python3.5/site-packages (from xgboost) (1.14.3)\n",
      "Requirement already satisfied: scipy in ./.local/lib/python3.5/site-packages (from xgboost) (1.1.0)\n"
     ]
    }
   ],
   "source": [
    "! pip install --user xgboost"
   ]
  },
  {
   "cell_type": "code",
   "execution_count": 3,
   "metadata": {},
   "outputs": [
    {
     "name": "stdout",
     "output_type": "stream",
     "text": [
      "ok\n"
     ]
    }
   ],
   "source": [
    "import matplotlib.pyplot as plt\n",
    "import seaborn as sns \n",
    "from scipy.stats import norm\n",
    "from sklearn.preprocessing import StandardScaler\n",
    "from sklearn.model_selection import train_test_split\n",
    "from scipy import stats\n",
    "import warnings\n",
    "from sklearn.model_selection import cross_val_score\n",
    "from sklearn.linear_model import Ridge,Lasso\n",
    "warnings.filterwarnings('ignore')\n",
    "%matplotlib inline\n",
    "from scipy.stats import skew\n",
    "\n",
    "print(\"ok\")"
   ]
  },
  {
   "cell_type": "code",
   "execution_count": 4,
   "metadata": {},
   "outputs": [
    {
     "name": "stdout",
     "output_type": "stream",
     "text": [
      "   Id  MSSubClass MSZoning  LotFrontage  LotArea Street Alley LotShape  \\\n",
      "0   1          60       RL         65.0     8450   Pave   NaN      Reg   \n",
      "1   2          20       RL         80.0     9600   Pave   NaN      Reg   \n",
      "2   3          60       RL         68.0    11250   Pave   NaN      IR1   \n",
      "3   4          70       RL         60.0     9550   Pave   NaN      IR1   \n",
      "4   5          60       RL         84.0    14260   Pave   NaN      IR1   \n",
      "\n",
      "  LandContour Utilities    ...     PoolArea PoolQC Fence MiscFeature MiscVal  \\\n",
      "0         Lvl    AllPub    ...            0    NaN   NaN         NaN       0   \n",
      "1         Lvl    AllPub    ...            0    NaN   NaN         NaN       0   \n",
      "2         Lvl    AllPub    ...            0    NaN   NaN         NaN       0   \n",
      "3         Lvl    AllPub    ...            0    NaN   NaN         NaN       0   \n",
      "4         Lvl    AllPub    ...            0    NaN   NaN         NaN       0   \n",
      "\n",
      "  MoSold YrSold  SaleType  SaleCondition  SalePrice  \n",
      "0      2   2008        WD         Normal     208500  \n",
      "1      5   2007        WD         Normal     181500  \n",
      "2      9   2008        WD         Normal     223500  \n",
      "3      2   2006        WD        Abnorml     140000  \n",
      "4     12   2008        WD         Normal     250000  \n",
      "\n",
      "[5 rows x 81 columns]\n"
     ]
    }
   ],
   "source": [
    "train= pd.read_csv('./Ames_Dataset_Solution/train.csv')\n",
    "train_data = pd.read_csv('./Ames_Dataset_Solution/train.csv')\n",
    "print (train.head())\n",
    "#print (train.columns)\n",
    "#print(train.shape)"
   ]
  },
  {
   "cell_type": "code",
   "execution_count": 5,
   "metadata": {},
   "outputs": [
    {
     "name": "stdout",
     "output_type": "stream",
     "text": [
      "(1459, 80)\n"
     ]
    }
   ],
   "source": [
    "test= pd.read_csv('./Ames_Dataset_Solution/test.csv')\n",
    "submission_ID = test['Id']\n",
    "#print (test.head())\n",
    "#print (test.columns)\n",
    "print(test.shape)"
   ]
  },
  {
   "cell_type": "code",
   "execution_count": 6,
   "metadata": {},
   "outputs": [
    {
     "name": "stdout",
     "output_type": "stream",
     "text": [
      "(1460, 80)\n",
      "(1459, 79)\n"
     ]
    }
   ],
   "source": [
    "train.drop(\"Id\",axis=1,inplace = True)\n",
    "print(train.shape)\n",
    "test.drop(\"Id\",axis=1,inplace=True)\n",
    "print (test.shape)"
   ]
  },
  {
   "cell_type": "code",
   "execution_count": 7,
   "metadata": {},
   "outputs": [
    {
     "data": {
      "image/png": "[encoded data removed]",
      "text/plain": [
       "<Figure size 432x288 with 1 Axes>"
      ]
     },
     "metadata": {},
     "output_type": "display_data"
    }
   ],
   "source": [
    "#Check For Outliers\n",
    "\n",
    "\n",
    "\n",
    "plt.scatter(train['GrLivArea'],train['SalePrice'],c = \"Red\")\n",
    "\n",
    "\n",
    "\n",
    "plt.xlabel(\"GrLivArea\")\n",
    "\n",
    "\n",
    "\n",
    "plt.ylabel(\"SalePrice\")\n",
    "\n",
    "\n",
    "\n",
    "plt.show()\n",
    "\n"
   ]
  },
  {
   "cell_type": "code",
   "execution_count": 8,
   "metadata": {
    "scrolled": true
   },
   "outputs": [
    {
     "data": {
      "image/png": "[encoded data removed]",
      "text/plain": [
       "<Figure size 432x288 with 1 Axes>"
      ]
     },
     "metadata": {},
     "output_type": "display_data"
    }
   ],
   "source": [
    "\n",
    "\n",
    "\n",
    "\n",
    "#Removing Outliers\n",
    "\n",
    "\n",
    "\n",
    "train = train[train['GrLivArea']<4000]\n",
    "test = test[test['GrLivArea']<4000]\n",
    "\n",
    "plt.scatter(train['GrLivArea'],train['SalePrice'],c = \"Red\")\n",
    "plt.xlabel(\"GrLivArea\")\n",
    "plt.ylabel(\"SalePrice\")\n",
    "plt.show()"
   ]
  },
  {
   "cell_type": "code",
   "execution_count": 9,
   "metadata": {},
   "outputs": [
    {
     "name": "stdout",
     "output_type": "stream",
     "text": [
      "(1456, 80)\n",
      "(1458, 79)\n"
     ]
    }
   ],
   "source": [
    "print (train.shape)\n",
    "\n",
    "\n",
    "\n",
    "print (test.shape)\n",
    "\n"
   ]
  },
  {
   "cell_type": "code",
   "execution_count": 10,
   "metadata": {},
   "outputs": [
    {
     "data": {
      "text/plain": [
       "<matplotlib.axes._subplots.AxesSubplot at 0x7f75803d7a90>"
      ]
     },
     "execution_count": 10,
     "metadata": {},
     "output_type": "execute_result"
    },
    {
     "data": {
      "image/png": "[encoded data removed]",
      "text/plain": [
       "<Figure size 432x288 with 1 Axes>"
      ]
     },
     "metadata": {},
     "output_type": "display_data"
    }
   ],
   "source": [
    "\n",
    "#Checking the distribution of plot (The distribution is right skewed )\n",
    "\n",
    "\n",
    "sns.distplot(train['SalePrice'], fit=norm )"
   ]
  },
  {
   "cell_type": "code",
   "execution_count": 11,
   "metadata": {},
   "outputs": [],
   "source": [
    "#Normalizing the Y values \n",
    "\n",
    "\n",
    "\n",
    "train['SalePrice'] = np.log1p(train['SalePrice'])\n",
    "\n",
    "\n",
    "\n",
    "\n",
    "#print(train['SalePrice'])\n"
   ]
  },
  {
   "cell_type": "code",
   "execution_count": 12,
   "metadata": {},
   "outputs": [
    {
     "data": {
      "text/plain": [
       "Text(0,0.5,'frequency')"
      ]
     },
     "execution_count": 12,
     "metadata": {},
     "output_type": "execute_result"
    },
    {
     "data": {
      "image/png": "[encoded data removed]",
      "text/plain": [
       "<Figure size 432x288 with 1 Axes>"
      ]
     },
     "metadata": {},
     "output_type": "display_data"
    }
   ],
   "source": [
    "\n",
    "#Y value after normalisation \n",
    "\n",
    "sns.distplot(train['SalePrice'] , fit=norm)\n",
    "\n",
    "plt.ylabel('frequency')\n"
   ]
  },
  {
   "cell_type": "code",
   "execution_count": 13,
   "metadata": {},
   "outputs": [],
   "source": [
    "\n",
    "#for i in train.columns :\n",
    "\n",
    "#   print  ( \"the feature is \" + str(i) + \"the no. of nulls is \" + str(train[i].isnull().sum()) )\n"
   ]
  },
  {
   "cell_type": "code",
   "execution_count": 14,
   "metadata": {},
   "outputs": [
    {
     "name": "stdout",
     "output_type": "stream",
     "text": [
      "(1456, 80)\n",
      "(1458, 79)\n"
     ]
    }
   ],
   "source": [
    "\n",
    "print (train.shape)\n",
    "\n",
    "print (test.shape)\n"
   ]
  },
  {
   "cell_type": "code",
   "execution_count": 15,
   "metadata": {},
   "outputs": [],
   "source": [
    "\n",
    "for i in ['BsmtQual',\"BsmtCond\",\"BsmtExposure\",\"FireplaceQu\",\"Fence\",\"BsmtFinType1\",\"BsmtFinType2\",\"GarageType\",\"GarageFinish\",\"MiscFeature\",\"GarageQual\",\"GarageCond\"]:\n",
    "\n",
    "    \n",
    "    train[i] = train[i].fillna(\"No\")\n",
    "    \n",
    "    test[i] = test[i].fillna(\"No\")\n",
    "    #print(train[i].isnull().sum())"
   ]
  },
  {
   "cell_type": "code",
   "execution_count": 16,
   "metadata": {},
   "outputs": [],
   "source": [
    "for i in ['BsmtFullBath',\"LotFrontage\",'BsmtFinSF1','TotalBsmtSF','BsmtFinSF2','BsmtHalfBath','BsmtUnfSF','Fireplaces',\"MiscFeature\",\"MasVnrArea\",'GarageArea',\"GarageCars\",'HalfBath','LotFrontage','MiscVal','MasVnrArea',\"PoolQC\",'ScreenPorch','TotRmsAbvGrd','WoodDeckSF'] :\n",
    "    train[i] = train[i].fillna(0) \n",
    "    test[i] = test[i].fillna(0)\n",
    "   # print(train[i].isnull().sum())"
   ]
  },
  {
   "cell_type": "code",
   "execution_count": 17,
   "metadata": {},
   "outputs": [
    {
     "name": "stdout",
     "output_type": "stream",
     "text": [
      "0\n",
      "0\n"
     ]
    }
   ],
   "source": [
    "for i in [\"Condition1\",\"Condition2\"] :\n",
    "    train[i] = train[i].fillna(\"Norm\")\n",
    "    test[i] = test[i].fillna(\"Norm\")\n",
    "    print(train[i].isnull().sum())"
   ]
  },
  {
   "cell_type": "code",
   "execution_count": 18,
   "metadata": {},
   "outputs": [
    {
     "name": "stdout",
     "output_type": "stream",
     "text": [
      "0\n",
      "0\n",
      "0\n",
      "0\n"
     ]
    }
   ],
   "source": [
    "for i in [\"Alley\",\"MasVnrType\"] :\n",
    "\n",
    "    train[i] = train[i].fillna(\"None\")\n",
    "    \n",
    "    test[i] = test[i].fillna(\"None\")\n",
    "    \n",
    "    print(train[i].isnull().sum())\n",
    "    \n",
    "    print(test[i].isnull().sum())\n",
    "    "
   ]
  },
  {
   "cell_type": "code",
   "execution_count": 19,
   "metadata": {},
   "outputs": [
    {
     "name": "stdout",
     "output_type": "stream",
     "text": [
      "(1456, 80)\n",
      "(1458, 79)\n"
     ]
    }
   ],
   "source": [
    "\n",
    "print (train.shape)\n",
    "print (test.shape)"
   ]
  },
  {
   "cell_type": "code",
   "execution_count": 20,
   "metadata": {},
   "outputs": [
    {
     "name": "stdout",
     "output_type": "stream",
     "text": [
      "0\n",
      "0\n",
      "0\n",
      "0\n"
     ]
    }
   ],
   "source": [
    "for i in [\"HeatingQC\",\"KitchenQual\"] :\n",
    "    train[i] = train[i].fillna(\"TA\")\n",
    "    test[i] = test[i].fillna(\"TA\")\n",
    "\n",
    "    print(test[i].isnull().sum())\n",
    "    print(train[i].isnull().sum())"
   ]
  },
  {
   "cell_type": "code",
   "execution_count": 21,
   "metadata": {},
   "outputs": [],
   "source": [
    "test['MSZoning'] = (test['MSZoning'].fillna(\"RL\"))"
   ]
  },
  {
   "cell_type": "code",
   "execution_count": 22,
   "metadata": {},
   "outputs": [
    {
     "data": {
      "text/html": [
       "<div>\n",
       "<style scoped>\n",
       "    .dataframe tbody tr th:only-of-type {\n",
       "        vertical-align: middle;\n",
       "    }\n",
       "\n",
       "    .dataframe tbody tr th {\n",
       "        vertical-align: top;\n",
       "    }\n",
       "\n",
       "    .dataframe thead th {\n",
       "        text-align: right;\n",
       "    }\n",
       "</style>\n",
       "<table border=\"1\" class=\"dataframe\">\n",
       "  <thead>\n",
       "    <tr style=\"text-align: right;\">\n",
       "      <th></th>\n",
       "      <th>Utilities</th>\n",
       "      <th>Exterior1st</th>\n",
       "      <th>Exterior2nd</th>\n",
       "      <th>SaleType</th>\n",
       "      <th>Functional</th>\n",
       "    </tr>\n",
       "  </thead>\n",
       "  <tbody>\n",
       "    <tr>\n",
       "      <th>0</th>\n",
       "      <td>AllPub</td>\n",
       "      <td>VinylSd</td>\n",
       "      <td>VinylSd</td>\n",
       "      <td>WD</td>\n",
       "      <td>Typ</td>\n",
       "    </tr>\n",
       "  </tbody>\n",
       "</table>\n",
       "</div>"
      ],
      "text/plain": [
       "  Utilities Exterior1st Exterior2nd SaleType Functional\n",
       "0    AllPub     VinylSd     VinylSd       WD        Typ"
      ]
     },
     "execution_count": 22,
     "metadata": {},
     "output_type": "execute_result"
    }
   ],
   "source": [
    "(test[['Utilities','Exterior1st','Exterior2nd','SaleType','Functional']].mode())"
   ]
  },
  {
   "cell_type": "code",
   "execution_count": 23,
   "metadata": {},
   "outputs": [],
   "source": [
    "test['Utilities'] = test['Utilities'].fillna(\"AllPub\")\n",
    "\n",
    "test['Exterior1st'] = test['Exterior1st'].fillna(\"VinylSd\")\n",
    "\n",
    "test['Exterior2nd'] = test['Exterior2nd'].fillna(\"VinylSd\")\n",
    "\n",
    "test['SaleType']= test['SaleType'].fillna(\"WD\")\n",
    "\n",
    "test['Functional'] = test['Functional'].fillna(\"Typ\")\n"
   ]
  },
  {
   "cell_type": "code",
   "execution_count": 24,
   "metadata": {},
   "outputs": [
    {
     "name": "stdout",
     "output_type": "stream",
     "text": [
      "(1456, 80)\n",
      "(1458, 79)\n"
     ]
    }
   ],
   "source": [
    "\n",
    "print (train.shape)\n",
    "\n",
    "print (test.shape)\n"
   ]
  },
  {
   "cell_type": "code",
   "execution_count": 25,
   "metadata": {},
   "outputs": [
    {
     "name": "stdout",
     "output_type": "stream",
     "text": [
      "MSSubClass        0\n",
      "MSZoning          0\n",
      "LotFrontage       0\n",
      "LotArea           0\n",
      "Street            0\n",
      "Alley             0\n",
      "LotShape          0\n",
      "LandContour       0\n",
      "Utilities         0\n",
      "LotConfig         0\n",
      "LandSlope         0\n",
      "Neighborhood      0\n",
      "Condition1        0\n",
      "Condition2        0\n",
      "BldgType          0\n",
      "HouseStyle        0\n",
      "OverallQual       0\n",
      "OverallCond       0\n",
      "YearBuilt         0\n",
      "YearRemodAdd      0\n",
      "RoofStyle         0\n",
      "RoofMatl          0\n",
      "Exterior1st       0\n",
      "Exterior2nd       0\n",
      "MasVnrType        0\n",
      "MasVnrArea        0\n",
      "ExterQual         0\n",
      "ExterCond         0\n",
      "Foundation        0\n",
      "BsmtQual          0\n",
      "                 ..\n",
      "BedroomAbvGr      0\n",
      "KitchenAbvGr      0\n",
      "KitchenQual       0\n",
      "TotRmsAbvGrd      0\n",
      "Functional        0\n",
      "Fireplaces        0\n",
      "FireplaceQu       0\n",
      "GarageType        0\n",
      "GarageYrBlt      81\n",
      "GarageFinish      0\n",
      "GarageCars        0\n",
      "GarageArea        0\n",
      "GarageQual        0\n",
      "GarageCond        0\n",
      "PavedDrive        0\n",
      "WoodDeckSF        0\n",
      "OpenPorchSF       0\n",
      "EnclosedPorch     0\n",
      "3SsnPorch         0\n",
      "ScreenPorch       0\n",
      "PoolArea          0\n",
      "PoolQC            0\n",
      "Fence             0\n",
      "MiscFeature       0\n",
      "MiscVal           0\n",
      "MoSold            0\n",
      "YrSold            0\n",
      "SaleType          0\n",
      "SaleCondition     0\n",
      "SalePrice         0\n",
      "Length: 80, dtype: int64\n",
      "MSSubClass        0\n",
      "MSZoning          0\n",
      "LotFrontage       0\n",
      "LotArea           0\n",
      "Street            0\n",
      "Alley             0\n",
      "LotShape          0\n",
      "LandContour       0\n",
      "Utilities         0\n",
      "LotConfig         0\n",
      "LandSlope         0\n",
      "Neighborhood      0\n",
      "Condition1        0\n",
      "Condition2        0\n",
      "BldgType          0\n",
      "HouseStyle        0\n",
      "OverallQual       0\n",
      "OverallCond       0\n",
      "YearBuilt         0\n",
      "YearRemodAdd      0\n",
      "RoofStyle         0\n",
      "RoofMatl          0\n",
      "Exterior1st       0\n",
      "Exterior2nd       0\n",
      "MasVnrType        0\n",
      "MasVnrArea        0\n",
      "ExterQual         0\n",
      "ExterCond         0\n",
      "Foundation        0\n",
      "BsmtQual          0\n",
      "                 ..\n",
      "HalfBath          0\n",
      "BedroomAbvGr      0\n",
      "KitchenAbvGr      0\n",
      "KitchenQual       0\n",
      "TotRmsAbvGrd      0\n",
      "Functional        0\n",
      "Fireplaces        0\n",
      "FireplaceQu       0\n",
      "GarageType        0\n",
      "GarageYrBlt      78\n",
      "GarageFinish      0\n",
      "GarageCars        0\n",
      "GarageArea        0\n",
      "GarageQual        0\n",
      "GarageCond        0\n",
      "PavedDrive        0\n",
      "WoodDeckSF        0\n",
      "OpenPorchSF       0\n",
      "EnclosedPorch     0\n",
      "3SsnPorch         0\n",
      "ScreenPorch       0\n",
      "PoolArea          0\n",
      "PoolQC            0\n",
      "Fence             0\n",
      "MiscFeature       0\n",
      "MiscVal           0\n",
      "MoSold            0\n",
      "YrSold            0\n",
      "SaleType          0\n",
      "SaleCondition     0\n",
      "Length: 79, dtype: int64\n"
     ]
    }
   ],
   "source": [
    "\n",
    "print(train.isnull().sum())\n",
    "print(test.isnull().sum())"
   ]
  },
  {
   "cell_type": "code",
   "execution_count": 26,
   "metadata": {},
   "outputs": [],
   "source": [
    "train.drop('GarageYrBlt',axis = 1,inplace = True)\n",
    "\n",
    "test.drop('GarageYrBlt',axis = 1,inplace = True)\n"
   ]
  },
  {
   "cell_type": "code",
   "execution_count": 27,
   "metadata": {},
   "outputs": [],
   "source": [
    "\n",
    "train['SalePrice'] = np.log1p(train['SalePrice'])\n",
    "\n",
    "y = train['SalePrice']\n"
   ]
  },
  {
   "cell_type": "code",
   "execution_count": 28,
   "metadata": {},
   "outputs": [],
   "source": [
    "\n",
    "train.drop('SalePrice',axis = 1,inplace = True)\n"
   ]
  },
  {
   "cell_type": "code",
   "execution_count": 29,
   "metadata": {},
   "outputs": [
    {
     "name": "stdout",
     "output_type": "stream",
     "text": [
      "(1456, 78)\n",
      "(1458, 78)\n"
     ]
    }
   ],
   "source": [
    "train['MSSubClass'] = train['MSSubClass'].apply(str)\n",
    "train['OverallCond'] = train['OverallCond'].astype(str)\n",
    "train['YrSold'] = train['YrSold'].astype(str)\n",
    "train['MoSold'] = train['MoSold'].astype(str)\n",
    "train.shape\n",
    "test['MSSubClass'] = test['MSSubClass'].apply(str)\n",
    "test['OverallCond'] = test['OverallCond'].astype(str)\n",
    "test['YrSold'] = test['YrSold'].astype(str)\n",
    "test['MoSold'] = test['MoSold'].astype(str)\n",
    "print(train.shape)\n",
    "print (test.shape)"
   ]
  },
  {
   "cell_type": "code",
   "execution_count": 30,
   "metadata": {},
   "outputs": [
    {
     "name": "stdout",
     "output_type": "stream",
     "text": [
      "[2 4 0 3 1]\n",
      "[4 2 0 1 3]\n"
     ]
    }
   ],
   "source": [
    "from sklearn.preprocessing import LabelEncoder\n",
    "\n",
    "cols = ['FireplaceQu', 'BsmtQual', 'BsmtCond', 'GarageQual', 'GarageCond', \n",
    "        'ExterQual', 'ExterCond','HeatingQC', 'PoolQC', 'KitchenQual', 'BsmtFinType1', \n",
    "       'BsmtFinType2', 'Functional', 'Fence', 'BsmtExposure', 'GarageFinish', 'LandSlope',\n",
    "      'LotShape', 'PavedDrive', 'Street', 'Alley', 'CentralAir', 'MSSubClass', 'OverallCond', \n",
    "     'YrSold', 'MoSold']\n",
    "for i in cols :\n",
    "    lb = LabelEncoder()\n",
    "    lb.fit(list(train[i].values) )\n",
    "    train[i] = lb.transform(list(train[i].values))\n",
    "print(train['BsmtQual'].unique())\n",
    "\n",
    "for i in cols :\n",
    "    lb = LabelEncoder()\n",
    "    lb.fit(list(test[i].values) )\n",
    "    test[i] = lb.transform(list(test[i].values))\n",
    "print (test['BsmtQual'].unique())"
   ]
  },
  {
   "cell_type": "code",
   "execution_count": 37,
   "metadata": {},
   "outputs": [],
   "source": [
    "#print (\"The correlation to target variable is \")\n",
    "corr_train = (train.corr())\n",
    "corr_test = test.corr()\n",
    "#print (corr_train['SalePrice'].sort_values(ascending = False))\n",
    "#print (corr_test['SalePrice'].sort_values(ascending = False))"
   ]
  },
  {
   "cell_type": "code",
   "execution_count": 151,
   "metadata": {},
   "outputs": [],
   "source": [
    "train[\"SimplOverallQual\"] = train.OverallQual.replace({1 : 1, 2 : 1, 3 : 1, # bad\n",
    "                                                       4 : 2, 5 : 2, 6 : 2, # average\n",
    "                                                       7 : 3, 8 : 3, 9 : 3, 10 : 3 # good\n",
    "                                                      })\n",
    "train[\"SimplOverallCond\"] = train.OverallCond.replace({1 : 1, 2 : 1, 3 : 1, # bad\n",
    "                                                       4 : 2, 5 : 2, 6 : 2, # average\n",
    "                                                       7 : 3, 8 : 3, 9 : 3, 10 : 3 # good\n",
    "                                                      })\n",
    "train[\"SimplPoolQC\"] = train.PoolQC.replace({1 : 1, 2 : 1, # average\n",
    "                                             3 : 2, 4 : 2 # good\n",
    "                                            })\n",
    "train[\"SimplGarageCond\"] = train.GarageCond.replace({1 : 1, # bad\n",
    "                                                     2 : 1, 3 : 1, # average\n",
    "                                                     4 : 2, 5 : 2 # good\n",
    "                                                    })\n",
    "train[\"SimplGarageQual\"] = train.GarageQual.replace({1 : 1, # bad\n",
    "                                                     2 : 1, 3 : 1, # average\n",
    "                                                     4 : 2, 5 : 2 # good\n",
    "                                                    })\n",
    "train[\"SimplFireplaceQu\"] = train.FireplaceQu.replace({1 : 1, # bad\n",
    "                                                       2 : 1, 3 : 1, # average\n",
    "                                                       4 : 2, 5 : 2 # good\n",
    "                                                      })\n",
    "train[\"SimplFireplaceQu\"] = train.FireplaceQu.replace({1 : 1, # bad\n",
    "                                                       2 : 1, 3 : 1, # average\n",
    "                                                       4 : 2, 5 : 2 # good\n",
    "                                                      })\n",
    "train[\"SimplFunctional\"] = train.Functional.replace({1 : 1, 2 : 1, # bad\n",
    "                                                     3 : 2, 4 : 2, # major\n",
    "                                                     5 : 3, 6 : 3, 7 : 3, # minor\n",
    "                                                     8 : 4 # typical\n",
    "                                                    })\n",
    "train[\"SimplKitchenQual\"] = train.KitchenQual.replace({1 : 1, # bad\n",
    "                                                       2 : 1, 3 : 1, # average\n",
    "                                                       4 : 2, 5 : 2 # good\n",
    "                                                      })\n",
    "train[\"SimplHeatingQC\"] = train.HeatingQC.replace({1 : 1, # bad\n",
    "                                                   2 : 1, 3 : 1, # average\n",
    "                                                   4 : 2, 5 : 2 # good\n",
    "                                                  })\n",
    "train[\"SimplBsmtFinType1\"] = train.BsmtFinType1.replace({1 : 1, # unfinished\n",
    "                                                         2 : 1, 3 : 1, # rec room\n",
    "                                                         4 : 2, 5 : 2, 6 : 2 # living quarters\n",
    "                                                        })\n",
    "train[\"SimplBsmtFinType2\"] = train.BsmtFinType2.replace({1 : 1, # unfinished\n",
    "                                                         2 : 1, 3 : 1, # rec room\n",
    "                                                         4 : 2, 5 : 2, 6 : 2 # living quarters\n",
    "                                                        })\n",
    "train[\"SimplBsmtCond\"] = train.BsmtCond.replace({1 : 1, # bad\n",
    "                                                 2 : 1, 3 : 1, # average\n",
    "                                                 4 : 2, 5 : 2 # good\n",
    "                                                })\n",
    "train[\"SimplBsmtQual\"] = train.BsmtQual.replace({1 : 1, # bad\n",
    "                                                 2 : 1, 3 : 1, # average\n",
    "                                                 4 : 2, 5 : 2 # good\n",
    "                                                })\n",
    "train[\"SimplExterCond\"] = train.ExterCond.replace({1 : 1, # bad\n",
    "                                                   2 : 1, 3 : 1, # average\n",
    "                                                   4 : 2, 5 : 2 # good\n",
    "                                                  })\n",
    "train[\"SimplExterQual\"] = train.ExterQual.replace({1 : 1, # bad\n",
    "                                                   2 : 1, 3 : 1, # average\n",
    "                                                   4 : 2, 5 : 2 # good\n",
    "                                                  })\n"
   ]
  },
  {
   "cell_type": "code",
   "execution_count": 152,
   "metadata": {},
   "outputs": [],
   "source": [
    "# 2* Combinations of existing features\n",
    "# Overall quality of the house\n",
    "train[\"OverallGrade\"] = train[\"OverallQual\"] * train[\"OverallCond\"]\n",
    "# Overall quality of the garage\n",
    "train[\"GarageGrade\"] = train[\"GarageQual\"] * train[\"GarageCond\"]\n",
    "# Overall quality of the exterior\n",
    "train[\"ExterGrade\"] = train[\"ExterQual\"] * train[\"ExterCond\"]\n",
    "# Overall kitchen score\n",
    "train[\"KitchenScore\"] = train[\"KitchenAbvGr\"] * train[\"KitchenQual\"]\n",
    "# Overall fireplace score\n",
    "train[\"FireplaceScore\"] = train[\"Fireplaces\"] * train[\"FireplaceQu\"]\n",
    "# Overall garage score\n",
    "train[\"GarageScore\"] = train[\"GarageArea\"] * train[\"GarageQual\"]\n",
    "# Overall pool score\n",
    "train[\"PoolScore\"] = train[\"PoolArea\"] * train[\"PoolQC\"]\n",
    "# Simplified overall quality of the house\n",
    "train[\"SimplOverallGrade\"] = train[\"SimplOverallQual\"] * train[\"SimplOverallCond\"]\n",
    "# Simplified overall quality of the exterior\n",
    "train[\"SimplExterGrade\"] = train[\"SimplExterQual\"] * train[\"SimplExterCond\"]\n",
    "# Simplified overall pool score\n",
    "train[\"SimplPoolScore\"] = train[\"PoolArea\"] * train[\"SimplPoolQC\"]\n",
    "# Simplified overall garage score\n",
    "train[\"SimplGarageScore\"] = train[\"GarageArea\"] * train[\"SimplGarageQual\"]\n",
    "# Simplified overall fireplace score\n",
    "train[\"SimplFireplaceScore\"] = train[\"Fireplaces\"] * train[\"SimplFireplaceQu\"]\n",
    "# Simplified overall kitchen score\n",
    "train[\"SimplKitchenScore\"] = train[\"KitchenAbvGr\"] * train[\"SimplKitchenQual\"]\n",
    "# Total number of bathrooms\n",
    "train[\"TotalBath\"] = train[\"BsmtFullBath\"] + (0.5 * train[\"BsmtHalfBath\"]) + \\\n",
    "train[\"FullBath\"] + (0.5 * train[\"HalfBath\"])\n",
    "# Total SF for house (incl. basement)\n",
    "train[\"AllSF\"] = train[\"GrLivArea\"] + train[\"TotalBsmtSF\"]\n",
    "# Total SF for 1st + 2nd floors\n",
    "train[\"AllFlrsSF\"] = train[\"1stFlrSF\"] + train[\"2ndFlrSF\"]\n",
    "# Total SF for porch\n",
    "train[\"AllPorchSF\"] = train[\"OpenPorchSF\"] + train[\"EnclosedPorch\"] + \\\n",
    "train[\"3SsnPorch\"] + train[\"ScreenPorch\"]\n",
    "# Has masonry veneer or not\n",
    "#train[\"HasMasVnr\"] = train.MasVnrType.replace({\"BrkCmn\" : 1, \"BrkFace\" : 1, \"CBlock\" : 1, \n",
    "                                               #\"Stone\" : 1, \"None\" : 0})\n",
    "# House completed before sale or not\n",
    "#train[\"BoughtOffPlan\"] = train.SaleCondition.replace({\"Abnorml\" : 0, \"Alloca\" : 0, \"AdjLand\" : 0, \n",
    "                                                     # \"Family\" : 0, \"Normal\" : 0, \"Partial\" : 1})\n",
    "\n"
   ]
  },
  {
   "cell_type": "code",
   "execution_count": 153,
   "metadata": {},
   "outputs": [],
   "source": [
    "# Create new features\n",
    "# 3* Polynomials on the top 10 existing features\n",
    "train[\"OverallQual-s2\"] = train[\"OverallQual\"] ** 2\n",
    "train[\"OverallQual-s3\"] = train[\"OverallQual\"] ** 3\n",
    "train[\"OverallQual-Sq\"] = np.sqrt(train[\"OverallQual\"])\n",
    "train[\"AllSF-2\"] = train[\"AllSF\"] ** 2\n",
    "train[\"AllSF-3\"] = train[\"AllSF\"] ** 3\n",
    "train[\"AllSF-Sq\"] = np.sqrt(train[\"AllSF\"])\n",
    "train[\"AllFlrsSF-2\"] = train[\"AllFlrsSF\"] ** 2\n",
    "train[\"AllFlrsSF-3\"] = train[\"AllFlrsSF\"] ** 3\n",
    "train[\"AllFlrsSF-Sq\"] = np.sqrt(train[\"AllFlrsSF\"])\n",
    "train[\"GrLivArea-2\"] = train[\"GrLivArea\"] ** 2\n",
    "train[\"GrLivArea-3\"] = train[\"GrLivArea\"] ** 3\n",
    "train[\"GrLivArea-Sq\"] = np.sqrt(train[\"GrLivArea\"])\n",
    "train[\"SimplOverallQual-s2\"] = train[\"SimplOverallQual\"] ** 2\n",
    "train[\"SimplOverallQual-s3\"] = train[\"SimplOverallQual\"] ** 3\n",
    "train[\"SimplOverallQual-Sq\"] = np.sqrt(train[\"SimplOverallQual\"])\n",
    "train[\"ExterQual-2\"] = train[\"ExterQual\"] ** 2\n",
    "train[\"ExterQual-3\"] = train[\"ExterQual\"] ** 3\n",
    "train[\"ExterQual-Sq\"] = np.sqrt(train[\"ExterQual\"])\n",
    "train[\"GarageCars-2\"] = train[\"GarageCars\"] ** 2\n",
    "train[\"GarageCars-3\"] = train[\"GarageCars\"] ** 3\n",
    "train[\"GarageCars-Sq\"] = np.sqrt(train[\"GarageCars\"])\n",
    "train[\"TotalBath-2\"] = train[\"TotalBath\"] ** 2\n",
    "train[\"TotalBath-3\"] = train[\"TotalBath\"] ** 3\n",
    "train[\"TotalBath-Sq\"] = np.sqrt(train[\"TotalBath\"])\n",
    "train[\"KitchenQual-2\"] = train[\"KitchenQual\"] ** 2\n",
    "train[\"KitchenQual-3\"] = train[\"KitchenQual\"] ** 3\n",
    "train[\"KitchenQual-Sq\"] = np.sqrt(train[\"KitchenQual\"])\n",
    "train[\"GarageScore-2\"] = train[\"GarageScore\"] ** 2\n",
    "train[\"GarageScore-3\"] = train[\"GarageScore\"] ** 3\n",
    "train[\"GarageScore-Sq\"] = np.sqrt(train[\"GarageScore\"])"
   ]
  },
  {
   "cell_type": "code",
   "execution_count": 154,
   "metadata": {},
   "outputs": [
    {
     "name": "stdout",
     "output_type": "stream",
     "text": [
      "MSSubClass             0\n",
      "LotFrontage            0\n",
      "LotArea                0\n",
      "Street                 0\n",
      "Alley                  0\n",
      "LotShape               0\n",
      "LandSlope              0\n",
      "OverallQual            0\n",
      "OverallCond            0\n",
      "YearBuilt              0\n",
      "YearRemodAdd           0\n",
      "MasVnrArea             0\n",
      "ExterQual              0\n",
      "ExterCond              0\n",
      "BsmtQual               0\n",
      "BsmtCond               0\n",
      "BsmtExposure           0\n",
      "BsmtFinType1           0\n",
      "BsmtFinSF1             0\n",
      "BsmtFinType2           0\n",
      "BsmtFinSF2             0\n",
      "BsmtUnfSF              0\n",
      "TotalBsmtSF            0\n",
      "HeatingQC              0\n",
      "CentralAir             0\n",
      "1stFlrSF               0\n",
      "2ndFlrSF               0\n",
      "LowQualFinSF           0\n",
      "GrLivArea              0\n",
      "BsmtFullBath           0\n",
      "                      ..\n",
      "AllSF                  0\n",
      "AllFlrsSF              0\n",
      "AllPorchSF             0\n",
      "AllSF-2                0\n",
      "AllSF-3                0\n",
      "AllSF-Sq               0\n",
      "AllFlrsSF-2            0\n",
      "AllFlrsSF-3            0\n",
      "AllFlrsSF-Sq           0\n",
      "GrLivArea-2            0\n",
      "GrLivArea-3            0\n",
      "GrLivArea-Sq           0\n",
      "SimplOverallQual-s2    0\n",
      "SimplOverallQual-s3    0\n",
      "SimplOverallQual-Sq    0\n",
      "ExterQual-2            0\n",
      "ExterQual-3            0\n",
      "ExterQual-Sq           0\n",
      "GarageCars-2           0\n",
      "GarageCars-3           0\n",
      "GarageCars-Sq          0\n",
      "TotalBath-2            0\n",
      "TotalBath-3            0\n",
      "TotalBath-Sq           0\n",
      "KitchenQual-2          0\n",
      "KitchenQual-3          0\n",
      "KitchenQual-Sq         0\n",
      "GarageScore-2          0\n",
      "GarageScore-3          0\n",
      "GarageScore-Sq         0\n",
      "Length: 282, dtype: int64\n"
     ]
    }
   ],
   "source": [
    "numerical_features_train = train.select_dtypes(exclude = ['object'])\n",
    "numerical_features_test = test.select_dtypes(exclude = ['object'])\n",
    "\n",
    "print (numerical_features_train.isnull().sum())"
   ]
  },
  {
   "cell_type": "code",
   "execution_count": 155,
   "metadata": {},
   "outputs": [
    {
     "name": "stdout",
     "output_type": "stream",
     "text": [
      "Index(['MSSubClass', 'LotFrontage', 'LotArea', 'Street', 'Alley', 'LotShape',\n",
      "       'LandSlope', 'OverallQual', 'OverallCond', 'YearBuilt',\n",
      "       ...\n",
      "       'GarageCars-Sq', 'TotalBath-2', 'TotalBath-3', 'TotalBath-Sq',\n",
      "       'KitchenQual-2', 'KitchenQual-3', 'KitchenQual-Sq', 'GarageScore-2',\n",
      "       'GarageScore-3', 'GarageScore-Sq'],\n",
      "      dtype='object', length=282)\n",
      "Index(['MSSubClass', 'LotFrontage', 'LotArea', 'Street', 'Alley', 'LotShape',\n",
      "       'LandSlope', 'OverallQual', 'OverallCond', 'YearBuilt',\n",
      "       ...\n",
      "       'SaleType_ConLw', 'SaleType_New', 'SaleType_Oth', 'SaleType_WD',\n",
      "       'SaleCondition_Abnorml', 'SaleCondition_AdjLand',\n",
      "       'SaleCondition_Alloca', 'SaleCondition_Family', 'SaleCondition_Normal',\n",
      "       'SaleCondition_Partial'],\n",
      "      dtype='object', length=220)\n"
     ]
    }
   ],
   "source": [
    "skewed = numerical_features_train.apply(lambda x : skew(x))\n",
    "skewed = skewed[abs(skewed) > 0.5]\n",
    "skewed_features = skewed.index\n",
    "numerical_features_train[skewed_features] = np.log1p(numerical_features_train[skewed_features])\n",
    "print (numerical_features_train.columns)\n",
    "\n",
    "skewed = numerical_features_test.apply(lambda x : skew(x))\n",
    "skewed = skewed[abs(skewed) > 0.5]\n",
    "skewed_features = skewed.index\n",
    "numerical_features_test[skewed_features] = np.log1p(numerical_features_test[skewed_features])\n",
    "print (numerical_features_test.columns)"
   ]
  },
  {
   "cell_type": "code",
   "execution_count": 160,
   "metadata": {},
   "outputs": [
    {
     "name": "stdout",
     "output_type": "stream",
     "text": [
      "Empty DataFrame\n",
      "Columns: []\n",
      "Index: [0, 1, 2, 3, 4, 5, 6, 7, 8, 9, 10, 11, 12, 13, 14, 15, 16, 17, 18, 19, 20, 21, 22, 23, 24, 25, 26, 27, 28, 29, 30, 31, 32, 33, 34, 35, 36, 37, 38, 39, 40, 41, 42, 43, 44, 45, 46, 47, 48, 49, 50, 51, 52, 53, 54, 55, 56, 57, 58, 59, 60, 61, 62, 63, 64, 65, 66, 67, 68, 69, 70, 71, 72, 73, 74, 75, 76, 77, 78, 79, 80, 81, 82, 83, 84, 85, 86, 87, 88, 89, 90, 91, 92, 93, 94, 95, 96, 97, 98, 99, ...]\n",
      "\n",
      "[1456 rows x 0 columns]\n",
      "Series([], dtype: float64)\n"
     ]
    }
   ],
   "source": [
    "categorical_features_train = train.select_dtypes(include = ['object'])\n",
    "categorical_features_test = test.select_dtypes(include = ['object'])\n",
    "print(categorical_features_train)\n",
    "print (categorical_features_train.isnull().sum())"
   ]
  },
  {
   "cell_type": "code",
   "execution_count": 161,
   "metadata": {},
   "outputs": [
    {
     "name": "stdout",
     "output_type": "stream",
     "text": [
      "Series([], dtype: float64)\n",
      "the length of df is \n",
      "Series([], dtype: float64)\n",
      "The length of df is\n"
     ]
    }
   ],
   "source": [
    "categorical_features_train.isnull().sum()\n",
    "#categorical_features_train['Electrical'] = categorical_features_train['Electrical'].fillna(\"SBrkr\")\n",
    "print (categorical_features_train.isnull().sum())\n",
    "print(\"the length of df is \")\n",
    "#print (len((categorical_features_train).columns))\n",
    "\n",
    "categorical_features_test.isnull().sum()\n",
    "#categorical_features_test['Electrical'] = categorical_features_test['Electrical'].fillna(\"SBrkr\")\n",
    "print (categorical_features_test.isnull().sum())\n",
    "print (\"The length of df is\")\n",
    "##print (len((categorical_features_test).columns))"
   ]
  },
  {
   "cell_type": "code",
   "execution_count": 127,
   "metadata": {},
   "outputs": [
    {
     "name": "stdout",
     "output_type": "stream",
     "text": [
      "Index(['MSZoning_C (all)', 'MSZoning_FV', 'MSZoning_RH', 'MSZoning_RL',\n",
      "       'MSZoning_RM', 'LandContour_Bnk', 'LandContour_HLS', 'LandContour_Low',\n",
      "       'LandContour_Lvl', 'Utilities_AllPub',\n",
      "       ...\n",
      "       'SaleType_ConLw', 'SaleType_New', 'SaleType_Oth', 'SaleType_WD',\n",
      "       'SaleCondition_Abnorml', 'SaleCondition_AdjLand',\n",
      "       'SaleCondition_Alloca', 'SaleCondition_Family', 'SaleCondition_Normal',\n",
      "       'SaleCondition_Partial'],\n",
      "      dtype='object', length=163)\n",
      "Index(['MSZoning_C (all)', 'MSZoning_FV', 'MSZoning_RH', 'MSZoning_RL',\n",
      "       'MSZoning_RM', 'LandContour_Bnk', 'LandContour_HLS', 'LandContour_Low',\n",
      "       'LandContour_Lvl', 'Utilities_AllPub',\n",
      "       ...\n",
      "       'SaleType_ConLw', 'SaleType_New', 'SaleType_Oth', 'SaleType_WD',\n",
      "       'SaleCondition_Abnorml', 'SaleCondition_AdjLand',\n",
      "       'SaleCondition_Alloca', 'SaleCondition_Family', 'SaleCondition_Normal',\n",
      "       'SaleCondition_Partial'],\n",
      "      dtype='object', length=163)\n"
     ]
    }
   ],
   "source": [
    "train_objs_num = len(categorical_features_train)\n",
    "dataset = pd.concat(objs=[categorical_features_train, categorical_features_test], axis=0)\n",
    "dataset = pd.get_dummies(dataset)\n",
    "categorical_features_train = (dataset[:train_objs_num])\n",
    "categorical_features_test = (dataset[train_objs_num:])\n",
    "print (categorical_features_train.columns)\n",
    "print (categorical_features_test.columns)"
   ]
  },
  {
   "cell_type": "code",
   "execution_count": 128,
   "metadata": {},
   "outputs": [
    {
     "name": "stdout",
     "output_type": "stream",
     "text": [
      "2\n",
      "2\n",
      "2\n",
      "2\n",
      "2\n",
      "2\n",
      "2\n",
      "2\n",
      "2\n",
      "2\n",
      "2\n",
      "2\n",
      "2\n",
      "2\n",
      "2\n",
      "2\n",
      "2\n",
      "2\n",
      "2\n",
      "2\n",
      "2\n",
      "2\n",
      "2\n",
      "2\n",
      "2\n",
      "2\n",
      "2\n",
      "2\n",
      "2\n",
      "2\n",
      "2\n",
      "2\n",
      "2\n",
      "2\n",
      "2\n",
      "2\n",
      "2\n",
      "2\n",
      "2\n",
      "2\n",
      "2\n",
      "2\n",
      "2\n",
      "2\n",
      "2\n",
      "2\n",
      "2\n",
      "2\n",
      "2\n",
      "2\n",
      "2\n",
      "2\n",
      "2\n",
      "2\n",
      "2\n",
      "2\n",
      "2\n",
      "2\n",
      "2\n",
      "2\n",
      "2\n",
      "2\n",
      "2\n",
      "2\n",
      "2\n",
      "2\n",
      "2\n",
      "2\n",
      "2\n",
      "2\n",
      "2\n",
      "2\n",
      "2\n",
      "2\n",
      "2\n",
      "2\n",
      "2\n",
      "2\n",
      "2\n",
      "2\n",
      "2\n",
      "2\n",
      "2\n",
      "2\n",
      "2\n",
      "2\n",
      "2\n",
      "2\n",
      "2\n",
      "2\n",
      "2\n",
      "2\n",
      "2\n",
      "2\n",
      "2\n",
      "2\n",
      "2\n",
      "2\n",
      "2\n",
      "2\n",
      "2\n",
      "2\n",
      "2\n",
      "2\n",
      "2\n",
      "2\n",
      "2\n",
      "2\n",
      "2\n",
      "2\n",
      "2\n",
      "2\n",
      "2\n",
      "2\n",
      "2\n",
      "2\n",
      "2\n",
      "2\n",
      "2\n",
      "2\n",
      "2\n",
      "2\n",
      "2\n",
      "2\n",
      "2\n",
      "2\n",
      "2\n",
      "2\n",
      "2\n",
      "2\n",
      "2\n",
      "2\n",
      "2\n",
      "2\n",
      "2\n",
      "2\n",
      "2\n",
      "2\n",
      "2\n",
      "2\n",
      "2\n",
      "2\n",
      "2\n",
      "2\n",
      "2\n",
      "2\n",
      "2\n",
      "2\n",
      "2\n",
      "2\n",
      "2\n",
      "2\n",
      "2\n",
      "2\n",
      "2\n",
      "2\n",
      "2\n",
      "2\n",
      "2\n",
      "2\n",
      "2\n",
      "2\n",
      "2\n",
      "2\n",
      "2\n",
      "2\n",
      "2\n",
      "2\n",
      "2\n",
      "2\n",
      "2\n",
      "2\n",
      "1\n",
      "1\n",
      "2\n",
      "2\n",
      "2\n",
      "2\n",
      "2\n",
      "2\n",
      "2\n",
      "2\n",
      "2\n",
      "2\n",
      "2\n",
      "2\n",
      "2\n",
      "2\n",
      "2\n",
      "2\n",
      "2\n",
      "2\n",
      "2\n",
      "2\n",
      "2\n",
      "2\n",
      "2\n",
      "2\n",
      "2\n",
      "2\n",
      "2\n",
      "2\n",
      "2\n",
      "2\n",
      "2\n",
      "2\n",
      "2\n",
      "2\n",
      "2\n",
      "2\n",
      "2\n",
      "2\n",
      "2\n",
      "2\n",
      "2\n",
      "2\n",
      "2\n",
      "2\n",
      "1\n",
      "1\n",
      "1\n",
      "2\n",
      "2\n",
      "2\n",
      "2\n",
      "2\n",
      "2\n",
      "2\n",
      "2\n",
      "1\n",
      "2\n",
      "2\n",
      "2\n",
      "2\n",
      "2\n",
      "2\n",
      "2\n",
      "2\n",
      "2\n",
      "2\n",
      "2\n",
      "1\n",
      "1\n",
      "1\n",
      "2\n",
      "2\n",
      "2\n",
      "2\n",
      "2\n",
      "2\n",
      "2\n",
      "2\n",
      "2\n",
      "2\n",
      "1\n",
      "2\n",
      "2\n",
      "1\n",
      "2\n",
      "2\n",
      "2\n",
      "2\n",
      "2\n",
      "2\n",
      "2\n",
      "2\n",
      "2\n",
      "2\n",
      "2\n",
      "2\n",
      "2\n",
      "1\n",
      "2\n",
      "2\n",
      "2\n",
      "2\n",
      "2\n",
      "2\n",
      "2\n",
      "2\n",
      "2\n",
      "2\n",
      "2\n",
      "2\n",
      "2\n",
      "2\n",
      "2\n",
      "2\n",
      "1\n",
      "2\n",
      "2\n",
      "2\n",
      "1\n",
      "2\n",
      "2\n",
      "2\n",
      "2\n",
      "1\n",
      "2\n",
      "2\n",
      "2\n",
      "2\n",
      "2\n",
      "2\n",
      "2\n",
      "2\n",
      "2\n",
      "2\n",
      "2\n",
      "2\n",
      "1\n",
      "2\n",
      "2\n",
      "2\n",
      "2\n",
      "2\n",
      "2\n",
      "2\n",
      "2\n",
      "2\n",
      "2\n",
      "2\n",
      "2\n",
      "2\n",
      "2\n",
      "2\n"
     ]
    }
   ],
   "source": [
    "for i in categorical_features_train.columns:\n",
    "        print ((len((categorical_features_train[i].unique()))))\n",
    "#print (\"line break \")\n",
    "for i in categorical_features_test.columns:\n",
    "        print ((len((categorical_features_test[i].unique()))))"
   ]
  },
  {
   "cell_type": "code",
   "execution_count": 129,
   "metadata": {},
   "outputs": [
    {
     "name": "stdout",
     "output_type": "stream",
     "text": [
      "(1456, 220)\n"
     ]
    }
   ],
   "source": [
    "train = pd.concat([numerical_features_train,categorical_features_train],axis= 1)\n",
    "print (train.shape)"
   ]
  },
  {
   "cell_type": "code",
   "execution_count": 130,
   "metadata": {},
   "outputs": [
    {
     "name": "stdout",
     "output_type": "stream",
     "text": [
      "(1458, 220)\n"
     ]
    }
   ],
   "source": [
    "test = pd.concat([numerical_features_test,categorical_features_test],axis= 1)\n",
    "print (test.shape)"
   ]
  },
  {
   "cell_type": "code",
   "execution_count": 131,
   "metadata": {},
   "outputs": [
    {
     "name": "stdout",
     "output_type": "stream",
     "text": [
      "(1164, 220) (292, 220) (1164,) (292,)\n"
     ]
    }
   ],
   "source": [
    "X_train,X_test,Y_train,Y_test = train_test_split(train,y, test_size = 0.2,random_state = 42)\n",
    "print (X_train.shape,X_test.shape,Y_train.shape,Y_test.shape)"
   ]
  },
  {
   "cell_type": "code",
   "execution_count": null,
   "metadata": {},
   "outputs": [],
   "source": []
  },
  {
   "cell_type": "code",
   "execution_count": 43,
   "metadata": {},
   "outputs": [],
   "source": [
    "#print (X_train.head(10))"
   ]
  },
  {
   "cell_type": "code",
   "execution_count": 132,
   "metadata": {},
   "outputs": [],
   "source": [
    "from sklearn.linear_model import Ridge, RidgeCV, ElasticNet, LassoCV,ElasticNetCV,LinearRegression\n",
    "from sklearn.model_selection import cross_val_score\n",
    "\n",
    "def cv_error_train(mod):\n",
    "    rmse_train = np.sqrt(-cross_val_score(mod, X_train, Y_train,scoring= \"neg_mean_squared_error\" ,cv = 10))\n",
    "    return (rmse_train)\n",
    "def cv_error_test(mod):\n",
    "    rmse_test = np.sqrt(-cross_val_score(mod, X_test, Y_test,scoring = \"neg_mean_squared_error\" ,cv = 10))\n",
    "    return (rmse_test)"
   ]
  },
  {
   "cell_type": "code",
   "execution_count": 133,
   "metadata": {},
   "outputs": [
    {
     "name": "stdout",
     "output_type": "stream",
     "text": [
      "0.011091494264838906\n",
      "66103008.23689733\n"
     ]
    },
    {
     "data": {
      "image/png": "[encoded data removed]",
      "text/plain": [
       "<Figure size 432x288 with 1 Axes>"
      ]
     },
     "metadata": {},
     "output_type": "display_data"
    },
    {
     "data": {
      "image/png": "[encoded data removed]",
      "text/plain": [
       "<Figure size 432x288 with 1 Axes>"
      ]
     },
     "metadata": {},
     "output_type": "display_data"
    }
   ],
   "source": [
    "#Linear_Regression_Without_Regularization :\n",
    "\n",
    "model = LinearRegression()\n",
    "train_model = model.fit(X_train,Y_train)\n",
    "test_model = model.fit(X_test,Y_test)\n",
    "\n",
    "print (cv_error_train(train_model).mean())\n",
    "print (cv_error_test(test_model).mean())\n",
    "\n",
    "y_train_predict = train_model.predict(X_train)\n",
    "y_test_predict = test_model.predict(X_test)\n",
    "\n",
    "#plotting the residual sum of squares \n",
    "\n",
    "plt.scatter(y_train_predict,y_train_predict - Y_train,c = \"blue\",label = \"Training data\")\n",
    "plt.scatter(y_test_predict,y_test_predict - Y_test,c = \"red\",label = \"Test data\",)\n",
    "\n",
    "plt.title(\"Linear regression\")\n",
    "plt.xlabel(\"Predicted values\")\n",
    "plt.ylabel(\"Residuals\")\n",
    "\n",
    "plt.show()\n",
    "\n",
    "plt.scatter(y_train_predict,Y_train,c = \"blue\",label = \"Training data\")\n",
    "plt.scatter(y_test_predict,Y_test,c = \"red\",label = \"Test data\",)\n",
    "\n",
    "plt.title(\"Linear regression\")\n",
    "plt.xlabel(\"Predicted values\")\n",
    "plt.ylabel(\"Real Value\")\n",
    "\n",
    "plt.show()"
   ]
  },
  {
   "cell_type": "code",
   "execution_count": 134,
   "metadata": {},
   "outputs": [
    {
     "name": "stdout",
     "output_type": "stream",
     "text": [
      "[2.91739728 2.60639794 2.84011616 ... 3.02746082 2.80422998 2.85268011]\n"
     ]
    }
   ],
   "source": [
    "y_predict = train_model.predict(test)\n",
    "print (y_predict)"
   ]
  },
  {
   "cell_type": "code",
   "execution_count": 135,
   "metadata": {},
   "outputs": [
    {
     "name": "stdout",
     "output_type": "stream",
     "text": [
      "5.0\n",
      "0.009193298884288402\n",
      "0.011746514561010396\n"
     ]
    },
    {
     "data": {
      "image/png": "[encoded data removed]",
      "text/plain": [
       "<Figure size 432x288 with 1 Axes>"
      ]
     },
     "metadata": {},
     "output_type": "display_data"
    },
    {
     "data": {
      "image/png": "[encoded data removed]",
      "text/plain": [
       "<Figure size 432x288 with 1 Axes>"
      ]
     },
     "metadata": {},
     "output_type": "display_data"
    }
   ],
   "source": [
    "#Ridge Regression \n",
    "\n",
    "ridge = RidgeCV(alphas= [0.01,0.03,0.05,0.1,0.3,0.5,1.0,3.0,5.0,10.0,15.0,30.0,50.0,100.0])\n",
    "ridge.fit(X_train,Y_train)\n",
    "\n",
    "print(ridge.alpha_)\n",
    "print (cv_error_train(ridge).mean())\n",
    "print (cv_error_test(ridge).mean())\n",
    "\n",
    "y_train_predict = ridge.predict(X_train)\n",
    "y_test_predict = ridge.predict(X_test)\n",
    "#plotting the residual sum of squares \n",
    "\n",
    "plt.scatter(y_train_predict,y_train_predict - Y_train,c = \"blue\",label = \"Training data\")\n",
    "plt.scatter(y_test_predict,y_test_predict - Y_test,c = \"red\",label = \"Test data\",)\n",
    "\n",
    "plt.title(\"Ridge regression\")\n",
    "plt.xlabel(\"Predicted values\")\n",
    "plt.ylabel(\"Residuals\")\n",
    "\n",
    "plt.show()\n",
    "\n",
    "plt.scatter(y_train_predict,Y_train,c = \"blue\",label = \"Training data\")\n",
    "plt.scatter(y_test_predict,Y_test,c = \"red\",label = \"Test data\",)\n",
    "\n",
    "plt.title(\"Ridge regression\")\n",
    "plt.xlabel(\"Predicted values\")\n",
    "plt.ylabel(\"Real Value\")\n",
    "\n",
    "plt.show()"
   ]
  },
  {
   "cell_type": "code",
   "execution_count": 136,
   "metadata": {},
   "outputs": [
    {
     "name": "stdout",
     "output_type": "stream",
     "text": [
      "[2.54043694 2.55959393 2.55994042 ... 2.57565849 2.53020078 2.57913406]\n"
     ]
    }
   ],
   "source": [
    "y_predict_ridge = ridge.predict(test)\n",
    "print (y_predict_ridge)"
   ]
  },
  {
   "cell_type": "code",
   "execution_count": 137,
   "metadata": {},
   "outputs": [
    {
     "name": "stdout",
     "output_type": "stream",
     "text": [
      "GrLivArea                0.013481\n",
      "OverallCond              0.013214\n",
      "CentralAir               0.008111\n",
      "Neighborhood_Crawfor     0.007937\n",
      "Functional               0.007911\n",
      "1stFlrSF                 0.007642\n",
      "Exterior1st_BrkFace      0.006916\n",
      "LotArea                  0.006767\n",
      "BsmtCond                 0.006117\n",
      "Neighborhood_StoneBr     0.006043\n",
      "MSZoning_FV              0.005501\n",
      "HalfBath                 0.005051\n",
      "OverallQual              0.004645\n",
      "GarageType_BuiltIn       0.004231\n",
      "BsmtFullBath             0.003889\n",
      "Neighborhood_NoRidge     0.003759\n",
      "SaleType_New             0.003689\n",
      "Heating_GasW             0.003497\n",
      "BsmtFinSF1               0.003259\n",
      "Heating_GasA             0.003223\n",
      "LotConfig_CulDSac        0.003102\n",
      "MasVnrType_Stone         0.003038\n",
      "Fireplaces               0.003027\n",
      "Foundation_Stone         0.002932\n",
      "SaleCondition_Normal     0.002917\n",
      "RoofMatl_WdShngl         0.002894\n",
      "TotRmsAbvGrd             0.002891\n",
      "MSZoning_RL              0.002856\n",
      "Neighborhood_BrkSide     0.002718\n",
      "Condition2_Feedr         0.002628\n",
      "                           ...   \n",
      "SaleType_COD            -0.002148\n",
      "LotConfig_FR3           -0.002237\n",
      "BsmtUnfSF               -0.002269\n",
      "MiscFeature_Othr        -0.002301\n",
      "Neighborhood_Gilbert    -0.002400\n",
      "Neighborhood_Mitchel    -0.002428\n",
      "Foundation_Wood         -0.002548\n",
      "Foundation_BrkTil       -0.002602\n",
      "Condition1_Artery       -0.002622\n",
      "Neighborhood_NWAmes     -0.002623\n",
      "BsmtFinType2            -0.002937\n",
      "ExterQual               -0.002994\n",
      "MasVnrType_BrkCmn       -0.003009\n",
      "GarageType_CarPort      -0.003068\n",
      "Exterior2nd_Brk Cmn     -0.003092\n",
      "Exterior1st_Wd Sdng     -0.003104\n",
      "GarageType_2Types       -0.003293\n",
      "HouseStyle_1.5Fin       -0.003382\n",
      "Exterior2nd_Stucco      -0.003652\n",
      "SaleType_WD             -0.003800\n",
      "SaleCondition_Abnorml   -0.003812\n",
      "Neighborhood_IDOTRR     -0.003957\n",
      "Neighborhood_Edwards    -0.004214\n",
      "Condition1_RRAe         -0.004652\n",
      "Neighborhood_OldTown    -0.004967\n",
      "Neighborhood_MeadowV    -0.005248\n",
      "Exterior1st_BrkComm     -0.005525\n",
      "Heating_Grav            -0.005672\n",
      "KitchenQual             -0.006198\n",
      "MSZoning_C (all)        -0.012111\n",
      "Length: 220, dtype: float64\n"
     ]
    }
   ],
   "source": [
    "coeff = pd.Series(ridge.coef_,index= X_train.columns)\n",
    "print (coeff.sort_values(ascending = False))"
   ]
  },
  {
   "cell_type": "code",
   "execution_count": 138,
   "metadata": {},
   "outputs": [
    {
     "name": "stdout",
     "output_type": "stream",
     "text": [
      "The ridge model has eliminated 3 features\n",
      "The ridge model has kept 217 features\n"
     ]
    }
   ],
   "source": [
    "print( \"The ridge model has eliminated \" + str(sum(coeff == 0)) + \" features\")\n",
    "print (\"The ridge model has kept \" + str(sum(coeff != 0)) + \" features\")"
   ]
  },
  {
   "cell_type": "code",
   "execution_count": 95,
   "metadata": {},
   "outputs": [
    {
     "data": {
      "text/plain": [
       "<matplotlib.axes._subplots.AxesSubplot at 0x7f75800f3c88>"
      ]
     },
     "execution_count": 95,
     "metadata": {},
     "output_type": "execute_result"
    },
    {
     "data": {
      "image/png": "[encoded data removed]",
      "text/plain": [
       "<Figure size 432x288 with 1 Axes>"
      ]
     },
     "metadata": {},
     "output_type": "display_data"
    }
   ],
   "source": [
    "top_bottom_10 = pd.concat([coeff.sort_values().head(10),coeff.sort_values().tail(10)])\n",
    "\n",
    "top_bottom_10.plot(kind = \"barh\")"
   ]
  },
  {
   "cell_type": "code",
   "execution_count": 96,
   "metadata": {},
   "outputs": [
    {
     "name": "stdout",
     "output_type": "stream",
     "text": [
      "0.0001\n",
      "0.009212414473694535\n",
      "0.010231193119560267\n"
     ]
    },
    {
     "data": {
      "image/png": "[encoded data removed]",
      "text/plain": [
       "<Figure size 432x288 with 1 Axes>"
      ]
     },
     "metadata": {},
     "output_type": "display_data"
    },
    {
     "data": {
      "image/png": "[encoded data removed]",
      "text/plain": [
       "<Figure size 432x288 with 1 Axes>"
      ]
     },
     "metadata": {},
     "output_type": "display_data"
    }
   ],
   "source": [
    "lasso = LassoCV(alphas= [0.0001,0.003,0.005,0.01,0.03,0.05,0.1,0.3,0.5,1.0,3.0,5.0,10.0,30.0,50.0],cv = 10,max_iter = 50000)\n",
    "lasso.fit(X_train,Y_train)\n",
    "\n",
    "print(lasso.alpha_)\n",
    "print (cv_error_train(lasso).mean())\n",
    "print (cv_error_test(lasso).mean())\n",
    "\n",
    "y_train_predict = lasso.predict(X_train)\n",
    "y_test_predict = lasso.predict(X_test)\n",
    "#plotting the residual sum of squares \n",
    "\n",
    "plt.scatter(y_train_predict,y_train_predict - Y_train,c = \"blue\",label = \"Training data\")\n",
    "plt.scatter(y_test_predict,y_test_predict - Y_test,c = \"red\",label = \"Test data\",)\n",
    "\n",
    "plt.title(\"Lasso regression\")\n",
    "plt.xlabel(\"Predicted values\")\n",
    "plt.ylabel(\"Residuals\")\n",
    "\n",
    "plt.show()\n",
    "\n",
    "plt.scatter(y_train_predict,Y_train,c = \"blue\",label = \"Training data\")\n",
    "plt.scatter(y_test_predict,Y_test,c = \"red\",label = \"Test data\",)\n",
    "\n",
    "plt.title(\"Lasso regression\")\n",
    "plt.xlabel(\"Predicted values\")\n",
    "plt.ylabel(\"Real Value\")\n",
    "\n",
    "plt.show()"
   ]
  },
  {
   "cell_type": "code",
   "execution_count": 97,
   "metadata": {},
   "outputs": [],
   "source": [
    "y_test_predict = lasso.predict(X_test)"
   ]
  },
  {
   "cell_type": "code",
   "execution_count": 98,
   "metadata": {},
   "outputs": [],
   "source": [
    "coef = pd.Series(lasso.coef_,index= X_train.columns)"
   ]
  },
  {
   "cell_type": "code",
   "execution_count": 99,
   "metadata": {},
   "outputs": [
    {
     "name": "stdout",
     "output_type": "stream",
     "text": [
      "The lasso model has kept 59 features\n",
      "The lasso model has eliminated 161 features\n"
     ]
    }
   ],
   "source": [
    "print (\"The lasso model has kept \" + str(sum(coef != 0)) + \" features\")\n",
    "print (\"The lasso model has eliminated \" + str(sum(coef == 0)) + \" features\")"
   ]
  },
  {
   "cell_type": "code",
   "execution_count": 100,
   "metadata": {},
   "outputs": [
    {
     "data": {
      "text/plain": [
       "<matplotlib.axes._subplots.AxesSubplot at 0x7f75800e2588>"
      ]
     },
     "execution_count": 100,
     "metadata": {},
     "output_type": "execute_result"
    },
    {
     "data": {
      "image/png": "[encoded data removed]",
      "text/plain": [
       "<Figure size 432x288 with 1 Axes>"
      ]
     },
     "metadata": {},
     "output_type": "display_data"
    }
   ],
   "source": [
    "top_bottom_10 = pd.concat([coeff.sort_values().head(10),coeff.sort_values().tail(10)])\n",
    "\n",
    "top_bottom_10.plot(kind = \"barh\")"
   ]
  },
  {
   "cell_type": "code",
   "execution_count": 101,
   "metadata": {},
   "outputs": [
    {
     "name": "stdout",
     "output_type": "stream",
     "text": [
      "[2.68633473 2.49407789 2.66064915 ... 2.74396667 2.62515358 2.67324352]\n"
     ]
    }
   ],
   "source": [
    "y_predict_lasso = lasso.predict(test)\n",
    "print (y_predict)"
   ]
  },
  {
   "cell_type": "code",
   "execution_count": 102,
   "metadata": {},
   "outputs": [
    {
     "name": "stdout",
     "output_type": "stream",
     "text": [
      "0.0001\n",
      "0.008908118137820744\n",
      "0.009727418495750383\n"
     ]
    },
    {
     "data": {
      "image/png": "[encoded data removed]",
      "text/plain": [
       "<Figure size 432x288 with 1 Axes>"
      ]
     },
     "metadata": {},
     "output_type": "display_data"
    },
    {
     "data": {
      "image/png": "[encoded data removed]",
      "text/plain": [
       "<Figure size 432x288 with 1 Axes>"
      ]
     },
     "metadata": {},
     "output_type": "display_data"
    }
   ],
   "source": [
    "elastic_cv = ElasticNetCV( l1_ratio = [0.1,0.3,0.5,0.7,1.0],\n",
    "                            alphas= [0.0001,0.003,0.005,0.01,0.03,0.05,0.1,0.3,0.5,1.0,3.0,5.0,10.0,30.0,50.0],\n",
    "                           cv = 10)\n",
    "\n",
    "elastic_cv.fit(X_train,Y_train)\n",
    "\n",
    "print(elastic_cv.alpha_)\n",
    "print (cv_error_train(elastic_cv).mean())\n",
    "print (cv_error_test(elastic_cv).mean())\n",
    "\n",
    "y_train_predict = elastic_cv.predict(X_train)\n",
    "y_test_predict = elastic_cv.predict(X_test)\n",
    "#plotting the residual sum of squares \n",
    "\n",
    "plt.scatter(y_train_predict,y_train_predict - Y_train,c = \"blue\",label = \"Training data\")\n",
    "plt.scatter(y_test_predict,y_test_predict - Y_test,c = \"red\",label = \"Test data\",)\n",
    "\n",
    "plt.title(\"Elastic_CV\")\n",
    "plt.xlabel(\"Predicted values\")\n",
    "plt.ylabel(\"Residuals\")\n",
    "\n",
    "plt.show()\n",
    "\n",
    "plt.scatter(y_train_predict,Y_train,c = \"blue\",label = \"Training data\")\n",
    "plt.scatter(y_test_predict,Y_test,c = \"red\",label = \"Test data\",)\n",
    "\n",
    "plt.title(\"Elastic_CV\")\n",
    "plt.xlabel(\"Predicted values\")\n",
    "plt.ylabel(\"Real Value\")\n",
    "\n",
    "plt.show()"
   ]
  },
  {
   "cell_type": "code",
   "execution_count": 60,
   "metadata": {},
   "outputs": [
    {
     "name": "stdout",
     "output_type": "stream",
     "text": [
      "[2.58553275 2.60806748 2.6076884  ... 2.62530181 2.57396321 2.62498615]\n"
     ]
    }
   ],
   "source": [
    "y_predict = elastic_cv.predict(test)\n",
    "print (y_predict)\n"
   ]
  },
  {
   "cell_type": "code",
   "execution_count": 103,
   "metadata": {},
   "outputs": [
    {
     "name": "stdout",
     "output_type": "stream",
     "text": [
      "0.010312407869669932\n",
      "0.012697943863285308\n"
     ]
    }
   ],
   "source": [
    "from sklearn.ensemble import RandomForestRegressor\n",
    "\n",
    "rf = RandomForestRegressor(max_depth=30, n_estimators=500, max_features = 100, oob_score=True, n_jobs=-1, random_state=1234)\n",
    "rf.fit(X_train,Y_train)\n",
    "\n",
    "print (cv_error_train(rf).mean())\n",
    "print (cv_error_test(rf).mean())"
   ]
  },
  {
   "cell_type": "code",
   "execution_count": 104,
   "metadata": {},
   "outputs": [],
   "source": [
    "y_predict_rf = rf.predict(test)"
   ]
  },
  {
   "cell_type": "code",
   "execution_count": 105,
   "metadata": {},
   "outputs": [
    {
     "name": "stdout",
     "output_type": "stream",
     "text": [
      "0.010312407869669927\n",
      "0.012697943863285285\n"
     ]
    }
   ],
   "source": [
    "from sklearn.ensemble import GradientBoostingRegressor\n",
    "gbr = GradientBoostingRegressor()\n",
    "gbr.fit(X_train, Y_train)\n",
    "\n",
    "print (cv_error_train(rf).mean())\n",
    "print (cv_error_test(rf).mean())"
   ]
  },
  {
   "cell_type": "code",
   "execution_count": 106,
   "metadata": {},
   "outputs": [],
   "source": [
    "y_predict_gbr = gbr.predict(test)"
   ]
  },
  {
   "cell_type": "code",
   "execution_count": 107,
   "metadata": {},
   "outputs": [
    {
     "data": {
      "text/plain": [
       "XGBRegressor(base_score=0.5, booster='gbtree', colsample_bylevel=1,\n",
       "       colsample_bytree=1, gamma=0, learning_rate=0.1, max_delta_step=0,\n",
       "       max_depth=2, min_child_weight=1, missing=None, n_estimators=360,\n",
       "       n_jobs=1, nthread=None, objective='reg:linear', random_state=0,\n",
       "       reg_alpha=0, reg_lambda=1, scale_pos_weight=1, seed=None,\n",
       "       silent=True, subsample=1)"
      ]
     },
     "execution_count": 107,
     "metadata": {},
     "output_type": "execute_result"
    }
   ],
   "source": [
    "import xgboost as xgb\n",
    "model_xgb = xgb.XGBRegressor(n_estimators=360, max_depth=2, learning_rate=0.1)\n",
    "model_xgb.fit(X_train, Y_train)\n",
    "\n"
   ]
  },
  {
   "cell_type": "code",
   "execution_count": 108,
   "metadata": {},
   "outputs": [
    {
     "name": "stdout",
     "output_type": "stream",
     "text": [
      "0.009345401850533602\n",
      "0.011514028999119848\n"
     ]
    }
   ],
   "source": [
    "model_xgb.fit(X_train, Y_train)\n",
    "\n",
    "print (cv_error_train(model_xgb).mean())\n",
    "print (cv_error_test(model_xgb).mean())"
   ]
  },
  {
   "cell_type": "code",
   "execution_count": 139,
   "metadata": {},
   "outputs": [],
   "source": [
    "import lightgbm as lgb\n",
    "\n",
    "lgb_model = lgb.LGBMRegressor(objective='regression',num_leaves=5,\n",
    "                              learning_rate=0.05, n_estimators=720,\n",
    "                              max_bin = 55, bagging_fraction = 0.8,\n",
    "                              bagging_freq = 5, feature_fraction = 0.2319,\n",
    "                              feature_fraction_seed=9, bagging_seed=9,\n",
    "                              min_data_in_leaf =6, min_sum_hessian_in_leaf = 11)\n"
   ]
  },
  {
   "cell_type": "code",
   "execution_count": 140,
   "metadata": {},
   "outputs": [
    {
     "name": "stdout",
     "output_type": "stream",
     "text": [
      "0.008827120000671955\n",
      "0.01128321084701739\n"
     ]
    }
   ],
   "source": [
    "lgb_model.fit(X_train, Y_train)\n",
    "\n",
    "print (cv_error_train(lgb_model).mean())\n",
    "print (cv_error_test(lgb_model).mean())"
   ]
  },
  {
   "cell_type": "code",
   "execution_count": 141,
   "metadata": {},
   "outputs": [],
   "source": [
    "y_predict_lgb = lgb_model.predict(test)"
   ]
  },
  {
   "cell_type": "code",
   "execution_count": 142,
   "metadata": {},
   "outputs": [],
   "source": [
    "Final_price = np.expm1(y_predict_lgb)\n",
    "Final_price_1 = np.expm1(Final_price)"
   ]
  },
  {
   "cell_type": "code",
   "execution_count": 144,
   "metadata": {},
   "outputs": [
    {
     "name": "stdout",
     "output_type": "stream",
     "text": [
      "        Id  SalePrice\n",
      "0     1461  117821.53\n",
      "1     1462  153945.36\n",
      "2     1463  180856.81\n",
      "3     1464  185697.47\n",
      "4     1465  206372.82\n",
      "5     1466  187751.22\n",
      "6     1467  169264.29\n",
      "7     1468  168764.95\n",
      "8     1469  181631.79\n",
      "9     1470  123533.08\n",
      "10    1471  204696.76\n",
      "11    1472  105244.83\n",
      "12    1473  100070.48\n",
      "13    1474  160018.24\n",
      "14    1475  127976.73\n",
      "15    1476  368747.43\n",
      "16    1477  248932.32\n",
      "17    1478  283362.51\n",
      "18    1479  260685.87\n",
      "19    1480  479923.94\n",
      "20    1481  307241.61\n",
      "21    1482  206779.07\n",
      "22    1483  167891.78\n",
      "23    1484  183934.36\n",
      "24    1485  178749.85\n",
      "25    1486  203849.31\n",
      "26    1487  321854.58\n",
      "27    1488  233178.83\n",
      "28    1489  210770.62\n",
      "29    1490  212503.55\n",
      "...    ...        ...\n",
      "1429  2890   75225.85\n",
      "1430  2891  134350.17\n",
      "1431  2892   52222.50\n",
      "1432  2893   90868.18\n",
      "1433  2894   65094.03\n",
      "1434  2895  360283.56\n",
      "1435  2896  307742.12\n",
      "1436  2897  185366.24\n",
      "1437  2898  147407.49\n",
      "1438  2899  225751.10\n",
      "1439  2900  156894.04\n",
      "1440  2901  187000.39\n",
      "1441  2902  196581.88\n",
      "1442  2903  348044.90\n",
      "1443  2904  384934.27\n",
      "1444  2905   97371.61\n",
      "1445  2906  210414.17\n",
      "1446  2907  116911.75\n",
      "1447  2908  133292.64\n",
      "1448  2909  148829.11\n",
      "1449  2910   81232.73\n",
      "1450  2911   90256.06\n",
      "1451  2912  145141.90\n",
      "1452  2913   84985.09\n",
      "1453  2914   79879.54\n",
      "1454  2915   81760.14\n",
      "1455  2916   84004.57\n",
      "1456  2917  156116.78\n",
      "1457  2918  118940.10\n",
      "1458  2919  222413.13\n",
      "\n",
      "[1458 rows x 2 columns]\n"
     ]
    }
   ],
   "source": [
    "sub = pd.DataFrame()\n",
    "sub['Id'] = submission_ID\n",
    "sub = sub[sub['Id'] != 2550]\n",
    "sub['SalePrice'] = Final_price_1.round(2)\n",
    "sub.to_csv('submission.csv',index=False)\n",
    "print (sub)"
   ]
  }
 ],
 "metadata": {
  "kernelspec": {
   "display_name": "Python 3",
   "language": "python",
   "name": "python3"
  },
  "language_info": {
   "codemirror_mode": {
    "name": "ipython",
    "version": 3
   },
   "file_extension": ".py",
   "mimetype": "text/x-python",
   "name": "python",
   "nbconvert_exporter": "python",
   "pygments_lexer": "ipython3",
   "version": "3.5.2"
  }
 },
 "nbformat": 4,
 "nbformat_minor": 2
}
